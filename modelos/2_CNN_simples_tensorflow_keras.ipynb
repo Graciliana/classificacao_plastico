{
 "cells": [
  {
   "cell_type": "markdown",
   "id": "6e826506",
   "metadata": {},
   "source": [
    "# Classificação de Plásticos com CNN (TensorFlow/Keras)\n"
   ]
  },
  {
   "cell_type": "code",
   "execution_count": null,
   "id": "1370f1f4",
   "metadata": {},
   "outputs": [],
   "source": []
  },
  {
   "cell_type": "markdown",
   "id": "a5e1ce8b",
   "metadata": {},
   "source": [
    "# 0 Instalação e Importação"
   ]
  },
  {
   "cell_type": "markdown",
   "id": "6fcb58d3",
   "metadata": {},
   "source": [
    "## 0.1 Instalação"
   ]
  },
  {
   "cell_type": "code",
   "execution_count": 1,
   "id": "dd89cc31",
   "metadata": {},
   "outputs": [],
   "source": [
    "#!pip install tensorflow\n",
    "#!pip install opendatasets"
   ]
  },
  {
   "cell_type": "markdown",
   "id": "a2799553",
   "metadata": {},
   "source": [
    "## 0.2 Importação das bibliotecas"
   ]
  },
  {
   "cell_type": "code",
   "execution_count": 2,
   "id": "b4f1185c",
   "metadata": {},
   "outputs": [],
   "source": [
    "import numpy as np\n",
    "import pandas as pd\n",
    "import os\n",
    "import random"
   ]
  },
  {
   "cell_type": "code",
   "execution_count": 3,
   "id": "97e2ef53",
   "metadata": {},
   "outputs": [],
   "source": [
    "import tensorflow as tf\n",
    "import tensorflow as tf\n",
    "import matplotlib.pyplot as plt\n",
    "from tensorflow.keras import layers, models\n",
    "from tensorflow.keras.preprocessing import image_dataset_from_directory"
   ]
  },
  {
   "cell_type": "code",
   "execution_count": null,
   "id": "34ae35fb",
   "metadata": {},
   "outputs": [],
   "source": []
  },
  {
   "cell_type": "code",
   "execution_count": 4,
   "id": "356b7891",
   "metadata": {},
   "outputs": [],
   "source": [
    "SEED_VALUE = 42\n",
    "\n",
    "# Fix seed to make training deterministic.\n",
    "np.random.seed(SEED_VALUE)\n",
    "tf.random.set_seed(SEED_VALUE)"
   ]
  },
  {
   "cell_type": "markdown",
   "id": "b602f1dd",
   "metadata": {},
   "source": [
    "# 1 CARREGAMENTO DO DATASET"
   ]
  },
  {
   "cell_type": "code",
   "execution_count": 5,
   "id": "a57162cf",
   "metadata": {},
   "outputs": [],
   "source": [
    "# Caminho do dataset redimensionado (224x224)\n",
    "base_dir = '../data/Plastic_Classification_224'"
   ]
  },
  {
   "cell_type": "code",
   "execution_count": 6,
   "id": "ac183ce5",
   "metadata": {},
   "outputs": [],
   "source": [
    "#Parâmetros\n",
    "image_size = (224,224)\n",
    "batch_size = 32\n"
   ]
  },
  {
   "cell_type": "code",
   "execution_count": 7,
   "id": "bde53776",
   "metadata": {},
   "outputs": [],
   "source": [
    "# Data augmentation\n",
    "data_augmentation = tf.keras.Sequential([\n",
    "    layers.RandomFlip(\"horizontal\"),\n",
    "    layers.RandomRotation(0.1),\n",
    "    layers.RandomZoom(0.1),\n",
    "    layers.RandomContrast(0.1)\n",
    "])"
   ]
  },
  {
   "cell_type": "code",
   "execution_count": 8,
   "id": "02dd90dc",
   "metadata": {},
   "outputs": [
    {
     "name": "stdout",
     "output_type": "stream",
     "text": [
      "Found 1441 files belonging to 7 classes.\n"
     ]
    }
   ],
   "source": [
    "# Carregamento do dataset\n",
    "# Verifique se os rótulos são inteiros\n",
    "train_ds = image_dataset_from_directory(\n",
    "    os.path.join(base_dir, 'train'),\n",
    "    image_size=image_size,\n",
    "    batch_size=batch_size,\n",
    "    label_mode='int',  # <-- mudar aqui\n",
    "    shuffle=True,\n",
    "    seed=42\n",
    ")"
   ]
  },
  {
   "cell_type": "code",
   "execution_count": 17,
   "id": "3f81ede5",
   "metadata": {},
   "outputs": [
    {
     "name": "stdout",
     "output_type": "stream",
     "text": [
      "Found 416 files belonging to 7 classes.\n"
     ]
    }
   ],
   "source": [
    "val_ds = image_dataset_from_directory(\n",
    "    os.path.join(base_dir, 'validation'),\n",
    "    image_size=image_size,\n",
    "    batch_size=batch_size,\n",
    "    label_mode='int'\n",
    ")"
   ]
  },
  {
   "cell_type": "code",
   "execution_count": 18,
   "id": "adab9a80",
   "metadata": {},
   "outputs": [],
   "source": [
    "# Normalização\n",
    "normalization_layer = layers.Rescaling(1./255)"
   ]
  },
  {
   "cell_type": "code",
   "execution_count": 19,
   "id": "1e0b615d",
   "metadata": {},
   "outputs": [],
   "source": [
    "# Aplicar data augmentation e normalização\n",
    "train_ds = train_ds.map(lambda x, y: (normalization_layer(data_augmentation(x, training=True)), y))\n",
    "val_ds = val_ds.map(lambda x, y: (normalization_layer(x), y))"
   ]
  },
  {
   "cell_type": "code",
   "execution_count": 20,
   "id": "b61e89ac",
   "metadata": {},
   "outputs": [],
   "source": [
    "# Melhorar performance com prefetching\n",
    "AUTOTUNE = tf.data.AUTOTUNE\n",
    "train_ds = train_ds.prefetch(buffer_size=AUTOTUNE)\n",
    "val_ds = val_ds.prefetch(buffer_size=AUTOTUNE)"
   ]
  },
  {
   "cell_type": "code",
   "execution_count": 21,
   "id": "60d5da3d",
   "metadata": {},
   "outputs": [],
   "source": [
    "# Número de classes\n",
    "num_classes = 7"
   ]
  },
  {
   "cell_type": "markdown",
   "id": "d799ee96",
   "metadata": {},
   "source": [
    "# 2 Construção do modelo CNN simples "
   ]
  },
  {
   "cell_type": "markdown",
   "id": "17851693",
   "metadata": {},
   "source": [
    "### 🧠 Objetivo da Etapa:\n",
    "Construir um modelo de rede neural convolucional (CNN) capaz de:\n",
    "\n",
    "- Extrair padrões visuais importantes (textura, forma, bordas),\n",
    "\n",
    "- Aprender representações discriminantes para cada tipo de plástico,\n",
    "\n",
    "- Classificar corretamente entre as 7 classes."
   ]
  },
  {
   "cell_type": "markdown",
   "id": "c1a85555",
   "metadata": {},
   "source": [
    "| Camada                     | Função                                                                                     |\n",
    "| -------------------------- | ------------------------------------------------------------------------------------------ |\n",
    "| `Conv2D(32, (3,3), relu)`  | Extrai **32 mapas de características** com filtros 3x3. Detecta bordas, texturas           |\n",
    "| `MaxPooling2D(2,2)`        | Reduz o tamanho das imagens, mantendo os padrões mais fortes (reduz ruído)                 |\n",
    "| `Conv2D(64, (3,3), relu)`  | Agora detecta **padrões mais complexos**, como formas e partes de objetos                  |\n",
    "| `MaxPooling2D(2,2)`        | Continua reduzindo a dimensionalidade para evitar overfitting e acelerar treino            |\n",
    "| `Conv2D(128, (3,3), relu)` | Capta ainda **padrões mais abstratos**, como combinação de partes (ex: logotipo + formato) |\n",
    "| `MaxPooling2D(2,2)`        | Redução final da resolução antes da parte densa                                            |\n",
    "| `Flatten()`                | Converte as features 3D extraídas em vetor 1D para a rede densa                            |\n",
    "| `Dense(128, relu)`         | Camada totalmente conectada com 128 neurônios. Aprende combinações complexas dos padrões   |\n",
    "| `Dense(7, softmax)`        | Saída final com 7 neurônios (1 por classe). Softmax transforma em probabilidades           |\n"
   ]
  },
  {
   "cell_type": "markdown",
   "id": "9ac9924b",
   "metadata": {},
   "source": [
    "| Decisão                                            | Justificativa                                                    |\n",
    "| -------------------------------------------------- | ---------------------------------------------------------------- |\n",
    "| **Filtros pequenos (3x3)**                         | Captam detalhes finos das imagens, muito usados em CNNs modernas |\n",
    "| **Pooling 2x2**                                    | Evita overfitting, reduz dimensionalidade e melhora performance  |\n",
    "| **Aumento progressivo de filtros (32 → 64 → 128)** | Aumenta a complexidade do que o modelo pode aprender             |\n",
    "| **ReLU**                                           | Evita problemas de saturação, acelera o aprendizado              |\n",
    "| **Softmax + categorical\\_crossentropy**            | Ideal para classificação multiclasse com one-hot encoding        |\n"
   ]
  },
  {
   "cell_type": "code",
   "execution_count": 22,
   "id": "d082bada",
   "metadata": {},
   "outputs": [],
   "source": [
    "# Arquitetura CNN com regularização\n",
    "model = models.Sequential([\n",
    "    layers.Input(shape=(224, 224, 3)),\n",
    "\n",
    "    layers.Conv2D(32, (3, 3), padding='same', activation='relu'),\n",
    "    layers.BatchNormalization(),\n",
    "    layers.MaxPooling2D((2, 2)),\n",
    "\n",
    "    layers.Conv2D(64, (3, 3), padding='same', activation='relu'),\n",
    "    layers.BatchNormalization(),\n",
    "    layers.MaxPooling2D((2, 2)),\n",
    "\n",
    "    layers.Conv2D(128, (3, 3), padding='same', activation='relu'),\n",
    "    layers.BatchNormalization(),\n",
    "    layers.MaxPooling2D((2, 2)),\n",
    "\n",
    "    layers.Flatten(),\n",
    "    layers.Dense(128, activation='relu'),\n",
    "    layers.Dropout(0.3),\n",
    "    layers.Dense(num_classes, activation='softmax')\n",
    "])"
   ]
  },
  {
   "cell_type": "code",
   "execution_count": 23,
   "id": "41b63f49",
   "metadata": {},
   "outputs": [],
   "source": [
    "# Compilar o modelo\n",
    "# Use loss apropriada para rótulo inteiro\n",
    "model.compile(\n",
    "    optimizer='adam',\n",
    "    loss=tf.keras.losses.SparseCategoricalCrossentropy(),\n",
    "    metrics=['accuracy']\n",
    ")"
   ]
  },
  {
   "cell_type": "markdown",
   "id": "283a5bdb",
   "metadata": {},
   "source": [
    "### Entendimento:\n",
    "\n",
    "🧠 O que são parâmetros?\n",
    "\n",
    "São os pesos e vieses aprendidos automaticamente pelo modelo durante o treinamento, e definem como ele faz previsões.\n",
    "\n",
    "| Linha                  | Significado                                                                        |\n",
    "| ---------------------- | ---------------------------------------------------------------------------------- |\n",
    "| `Total params`         | Todos os parâmetros (pesos + vieses) da rede                                       |\n",
    "| `Trainable params`     | Parâmetros que serão atualizados pelo otimizador (ex: Adam)                        |\n",
    "| `Non-trainable params` | Parâmetros congelados (por exemplo, em transfer learning) — **aqui não há nenhum** |\n"
   ]
  },
  {
   "cell_type": "markdown",
   "id": "033d5edd",
   "metadata": {},
   "source": [
    "### 📦 Por que temos 11 milhões de parâmetros?\n",
    "\n",
    "Mesmo com uma CNN simples, ao chegar na camada Flatten e depois Dense(128) + Dense(7), o número de conexões totalmente conectadas cresce rapidamente.\n",
    "\n",
    "Por exemplo:\n",
    "\n",
    "Se a última saída da MaxPooling2D for (26, 26, 128), a Flatten() transforma isso em um vetor de 43264 unidades.\n",
    "\n",
    "- Flatten → Dense(128) = 43264 × 128 + 128 = 5.537.920\n",
    "\n",
    "- Dense(128) → Dense(7) = 128 × 7 + 7 = 903\n",
    "\n",
    "Somando com os parâmetros das camadas convolucionais (que também têm muitos filtros), chega-se facilmente aos 11 milhões."
   ]
  },
  {
   "cell_type": "markdown",
   "id": "2edddf96",
   "metadata": {},
   "source": [
    "### ⚠️ Isso é muito?\n",
    "\n",
    "| Caso                                            | Avaliação                                     |\n",
    "| ----------------------------------------------- | --------------------------------------------- |\n",
    "| Para uma CNN simples em imagens pequenas        | **Sim, é relativamente grande**               |\n",
    "| Para modelos complexos como ResNet/EfficientNet | **É pequeno/modesto**                         |\n",
    "| Para hardware comum (sem GPU)                   | Pode ser **pesado** e lento                   |\n",
    "| Para aprendizado                                | **Didaticamente bom**, mas pode ser otimizado |\n"
   ]
  },
  {
   "cell_type": "markdown",
   "id": "a2fc1e1d",
   "metadata": {},
   "source": [
    "### ✅ Dicas para reduzir parâmetros se necessário:\n",
    "Usar menos filtros (ex: 16, 32, 64 em vez de 32, 64, 128)\n",
    "\n",
    "Adicionar uma camada GlobalAveragePooling2D() em vez de Flatten() para evitar explodir o número de conexões\n",
    "\n",
    "Reduzir a dimensão da imagem de entrada, se aplicável"
   ]
  },
  {
   "cell_type": "markdown",
   "id": "ff487d84",
   "metadata": {},
   "source": [
    "# 3 Treinar o modelo"
   ]
  },
  {
   "cell_type": "code",
   "execution_count": 24,
   "id": "4297a97f",
   "metadata": {},
   "outputs": [
    {
     "name": "stdout",
     "output_type": "stream",
     "text": [
      "Epoch 1/10\n",
      "\u001b[1m46/46\u001b[0m \u001b[32m━━━━━━━━━━━━━━━━━━━━\u001b[0m\u001b[37m\u001b[0m \u001b[1m572s\u001b[0m 12s/step - accuracy: 0.2328 - loss: 17.3486 - val_accuracy: 0.1707 - val_loss: 1.9433\n",
      "Epoch 2/10\n",
      "\u001b[1m46/46\u001b[0m \u001b[32m━━━━━━━━━━━━━━━━━━━━\u001b[0m\u001b[37m\u001b[0m \u001b[1m690s\u001b[0m 15s/step - accuracy: 0.2010 - loss: 1.8653 - val_accuracy: 0.1250 - val_loss: 1.9443\n",
      "Epoch 3/10\n",
      "\u001b[1m46/46\u001b[0m \u001b[32m━━━━━━━━━━━━━━━━━━━━\u001b[0m\u001b[37m\u001b[0m \u001b[1m799s\u001b[0m 17s/step - accuracy: 0.2487 - loss: 1.8036 - val_accuracy: 0.1346 - val_loss: 2.0307\n",
      "Epoch 4/10\n",
      "\u001b[1m46/46\u001b[0m \u001b[32m━━━━━━━━━━━━━━━━━━━━\u001b[0m\u001b[37m\u001b[0m \u001b[1m516s\u001b[0m 11s/step - accuracy: 0.2459 - loss: 1.8094 - val_accuracy: 0.1370 - val_loss: 2.2904\n",
      "Epoch 5/10\n",
      "\u001b[1m46/46\u001b[0m \u001b[32m━━━━━━━━━━━━━━━━━━━━\u001b[0m\u001b[37m\u001b[0m \u001b[1m521s\u001b[0m 11s/step - accuracy: 0.2470 - loss: 1.7815 - val_accuracy: 0.1418 - val_loss: 3.1768\n",
      "Epoch 6/10\n",
      "\u001b[1m46/46\u001b[0m \u001b[32m━━━━━━━━━━━━━━━━━━━━\u001b[0m\u001b[37m\u001b[0m \u001b[1m538s\u001b[0m 12s/step - accuracy: 0.2228 - loss: 1.8720 - val_accuracy: 0.1394 - val_loss: 5.5030\n",
      "Epoch 7/10\n",
      "\u001b[1m46/46\u001b[0m \u001b[32m━━━━━━━━━━━━━━━━━━━━\u001b[0m\u001b[37m\u001b[0m \u001b[1m502s\u001b[0m 10s/step - accuracy: 0.2224 - loss: 1.8418 - val_accuracy: 0.1442 - val_loss: 13.2002\n",
      "Epoch 8/10\n",
      "\u001b[1m46/46\u001b[0m \u001b[32m━━━━━━━━━━━━━━━━━━━━\u001b[0m\u001b[37m\u001b[0m \u001b[1m504s\u001b[0m 11s/step - accuracy: 0.2244 - loss: 1.8149 - val_accuracy: 0.1250 - val_loss: 9.6272\n",
      "Epoch 9/10\n",
      "\u001b[1m46/46\u001b[0m \u001b[32m━━━━━━━━━━━━━━━━━━━━\u001b[0m\u001b[37m\u001b[0m \u001b[1m714s\u001b[0m 16s/step - accuracy: 0.1897 - loss: 1.8180 - val_accuracy: 0.1226 - val_loss: 12.4368\n",
      "Epoch 10/10\n",
      "\u001b[1m46/46\u001b[0m \u001b[32m━━━━━━━━━━━━━━━━━━━━\u001b[0m\u001b[37m\u001b[0m \u001b[1m580s\u001b[0m 12s/step - accuracy: 0.2086 - loss: 1.7873 - val_accuracy: 0.1226 - val_loss: 32.8811\n"
     ]
    }
   ],
   "source": [
    "# Treinar\n",
    "history = model.fit(\n",
    "    train_ds,\n",
    "    validation_data=val_ds,\n",
    "    epochs=10\n",
    ")"
   ]
  },
  {
   "cell_type": "code",
   "execution_count": null,
   "id": "94a5ee30",
   "metadata": {},
   "outputs": [],
   "source": [
    "# Salvar o modelo\n",
    "#model.save(\"./modelos/modelo_cnn_regularizado_otimizado.keras\")"
   ]
  },
  {
   "cell_type": "markdown",
   "id": "615dd0c7",
   "metadata": {},
   "source": [
    "\n",
    "OBservação:\n",
    "Aplicar técnicas de regularização (Dropout, BatchNormalization).\n",
    "\n",
    "Otimizar arquitetura ou testar transfer learning (ResNet, EfficientNet etc.)."
   ]
  },
  {
   "cell_type": "code",
   "execution_count": null,
   "id": "b57afc83",
   "metadata": {},
   "outputs": [],
   "source": []
  },
  {
   "cell_type": "markdown",
   "id": "5a1afdf9",
   "metadata": {},
   "source": [
    "# 4 Visualização de desempenho"
   ]
  },
  {
   "cell_type": "code",
   "execution_count": 25,
   "id": "8ea5cea1",
   "metadata": {},
   "outputs": [
    {
     "data": {
      "image/png": "[encoded data removed]",
      "text/plain": [
       "<Figure size 1000x400 with 2 Axes>"
      ]
     },
     "metadata": {},
     "output_type": "display_data"
    }
   ],
   "source": [
    "# Plotar gráfico de aprendizado\n",
    "plt.figure(figsize=(10, 4))\n",
    "plt.subplot(1, 2, 1)\n",
    "plt.plot(history.history['accuracy'], label='Treino')\n",
    "plt.plot(history.history['val_accuracy'], label='Validação')\n",
    "plt.title('Acurácia')\n",
    "plt.legend()\n",
    "\n",
    "plt.subplot(1, 2, 2)\n",
    "plt.plot(history.history['loss'], label='Treino')\n",
    "plt.plot(history.history['val_loss'], label='Validação')\n",
    "plt.title('Loss')\n",
    "plt.legend()\n",
    "plt.tight_layout()\n",
    "plt.show()\n",
    "\n"
   ]
  },
  {
   "cell_type": "markdown",
   "id": "11fe102f",
   "metadata": {},
   "source": [
    "# 6 Conclusão "
   ]
  },
  {
   "cell_type": "markdown",
   "id": "86a2be7e",
   "metadata": {},
   "source": [
    "CNN otimizado não está aprendendo de forma eficaz.\n",
    "\n",
    "### 🔎 Problemas observados\n",
    "#### 1. 🔻 Baixa Acurácia de Validação:\n",
    "\n",
    "- Fica entre 12% e 17%, indicando que o modelo não está generalizando.\n",
    "\n",
    "- Acima de 14% seria apenas sorte para 7 classes (≈14%).\n",
    "\n",
    "#### 2. 📈 Val Loss crescente:\n",
    "\n",
    "- A perda de validação sobe drasticamente (de 1.94 para 32.88).\n",
    "\n",
    "- Sinal clássico de overfitting ou erro de arquitetura.\n",
    "\n",
    "#### 3. ⏳ Treinamento muito demorado:\n",
    "\n",
    "- Cerca de 8 a 12 minutos por época sugere que a arquitetura está muito complexa ou mal ajustada para a tarefa.\n",
    "\n"
   ]
  },
  {
   "cell_type": "markdown",
   "id": "61bcac40",
   "metadata": {},
   "source": [
    "### 🧠 Possíveis causas\n",
    "\n",
    "| Categoria        | Problema possível                                           | Solução sugerida                                                         |\n",
    "| ---------------- | ----------------------------------------------------------- | ------------------------------------------------------------------------ |\n",
    "| **Rótulos**      | Mismatch entre `label_mode` e `loss` (corrigido?)           | Confirmar se `label_mode='int'` e `loss=SparseCategoricalCrossentropy()` |\n",
    "| **Base**         | Poucos dados, classe desbalanceada, ou imagens irrelevantes | Ampliar dados com **Data Augmentation**, revisar qualidade das imagens   |\n",
    "| **Modelo**       | Arquitetura muito rasa ou muito profunda                    | Testar uma arquitetura intermediária com regularização                   |\n",
    "| **Overfitting**  | Falta de dropout, early stopping ou regularização L2        | Incluir `Dropout`, `BatchNormalization`, `L2` e `EarlyStopping`          |\n",
    "| **Augmentation** | Augmentation ausente ou pouco eficaz                        | Adicionar `RandomFlip`, `Zoom`, `Rotation` etc.                          |\n"
   ]
  },
  {
   "cell_type": "code",
   "execution_count": null,
   "id": "3ec7d3fb",
   "metadata": {},
   "outputs": [],
   "source": []
  }
 ],
 "metadata": {
  "kernelspec": {
   "display_name": "Python 3 (ipykernel)",
   "language": "python",
   "name": "python3"
  },
  "language_info": {
   "codemirror_mode": {
    "name": "ipython",
    "version": 3
   },
   "file_extension": ".py",
   "mimetype": "text/x-python",
   "name": "python",
   "nbconvert_exporter": "python",
   "pygments_lexer": "ipython3",
   "version": "3.11.5"
  }
 },
 "nbformat": 4,
 "nbformat_minor": 5
}
