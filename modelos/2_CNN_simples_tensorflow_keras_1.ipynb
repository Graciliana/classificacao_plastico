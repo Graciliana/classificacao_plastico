{
 "cells": [
  {
   "cell_type": "markdown",
   "id": "6e826506",
   "metadata": {},
   "source": [
    "# Classificação de Plásticos com CNN (TensorFlow/Keras)\n"
   ]
  },
  {
   "cell_type": "code",
   "execution_count": null,
   "id": "1370f1f4",
   "metadata": {},
   "outputs": [],
   "source": []
  },
  {
   "cell_type": "markdown",
   "id": "a5e1ce8b",
   "metadata": {},
   "source": [
    "# 0 Instalação e Importação"
   ]
  },
  {
   "cell_type": "markdown",
   "id": "6fcb58d3",
   "metadata": {},
   "source": [
    "## 0.1 Instalação"
   ]
  },
  {
   "cell_type": "code",
   "execution_count": 1,
   "id": "dd89cc31",
   "metadata": {},
   "outputs": [],
   "source": [
    "#!pip install tensorflow\n",
    "#!pip install opendatasets"
   ]
  },
  {
   "cell_type": "markdown",
   "id": "a2799553",
   "metadata": {},
   "source": [
    "## 0.2 Importação das bibliotecas"
   ]
  },
  {
   "cell_type": "code",
   "execution_count": 2,
   "id": "b4f1185c",
   "metadata": {},
   "outputs": [],
   "source": [
    "import numpy as np\n",
    "import pandas as pd\n",
    "import os\n",
    "import random"
   ]
  },
  {
   "cell_type": "code",
   "execution_count": 3,
   "id": "97e2ef53",
   "metadata": {},
   "outputs": [],
   "source": [
    "import tensorflow as tf\n",
    "from tensorflow.keras import layers, models\n",
    "from tensorflow.keras.models import Sequential\n",
    "from tensorflow.keras.layers import Dense, Input, Activation\n",
    "from tensorflow.keras.preprocessing import image\n",
    "from tensorflow.keras import layers"
   ]
  },
  {
   "cell_type": "code",
   "execution_count": 4,
   "id": "34ae35fb",
   "metadata": {},
   "outputs": [],
   "source": [
    "import matplotlib.pyplot as plt\n",
    "from sklearn.metrics import confusion_matrix\n",
    "from sklearn.metrics import classification_report\n",
    "import seaborn as sns"
   ]
  },
  {
   "cell_type": "code",
   "execution_count": 5,
   "id": "356b7891",
   "metadata": {},
   "outputs": [],
   "source": [
    "SEED_VALUE = 42\n",
    "\n",
    "# Fix seed to make training deterministic.\n",
    "np.random.seed(SEED_VALUE)\n",
    "tf.random.set_seed(SEED_VALUE)"
   ]
  },
  {
   "cell_type": "markdown",
   "id": "b602f1dd",
   "metadata": {},
   "source": [
    "# 1 CARREGAMENTO DO DATASET"
   ]
  },
  {
   "cell_type": "code",
   "execution_count": 6,
   "id": "a57162cf",
   "metadata": {},
   "outputs": [],
   "source": [
    "# Caminho do dataset redimensionado (224x224)\n",
    "base_dir = '../data/Plastic_Classification_224'"
   ]
  },
  {
   "cell_type": "code",
   "execution_count": 7,
   "id": "ac183ce5",
   "metadata": {},
   "outputs": [],
   "source": [
    "#Parâmetros\n",
    "image_size = (224,224)\n",
    "batch_size = 32\n"
   ]
  },
  {
   "cell_type": "code",
   "execution_count": 8,
   "id": "02dd90dc",
   "metadata": {},
   "outputs": [
    {
     "name": "stdout",
     "output_type": "stream",
     "text": [
      "Found 1441 files belonging to 7 classes.\n"
     ]
    }
   ],
   "source": [
    "# Carregamento do dataset\n",
    "# categorias train\n",
    "train_ds = tf.keras.utils.image_dataset_from_directory(\n",
    "    os.path.join(base_dir, 'train'),\n",
    "    image_size=image_size,\n",
    "    batch_size=batch_size,\n",
    "    label_mode='categorical',\n",
    "    shuffle=True,\n",
    "    seed=42\n",
    ")"
   ]
  },
  {
   "cell_type": "code",
   "execution_count": 9,
   "id": "3f81ede5",
   "metadata": {},
   "outputs": [
    {
     "name": "stdout",
     "output_type": "stream",
     "text": [
      "Found 416 files belonging to 7 classes.\n"
     ]
    }
   ],
   "source": [
    "# Carregamento do dataset\n",
    "# categorias validação\n",
    "val_ds = tf.keras.utils.image_dataset_from_directory(\n",
    "    os.path.join(base_dir, 'validation'),\n",
    "    image_size=image_size,\n",
    "    batch_size=batch_size,\n",
    "    label_mode='categorical',\n",
    "    shuffle=True,\n",
    "    seed=42\n",
    ")\n"
   ]
  },
  {
   "cell_type": "code",
   "execution_count": 10,
   "id": "adab9a80",
   "metadata": {},
   "outputs": [
    {
     "name": "stdout",
     "output_type": "stream",
     "text": [
      "Found 209 files belonging to 7 classes.\n"
     ]
    }
   ],
   "source": [
    "# Carregamento do dataset\n",
    "# categorias test\n",
    "test_ds = tf.keras.utils.image_dataset_from_directory(\n",
    "    os.path.join(base_dir, 'test'),\n",
    "    image_size=image_size,\n",
    "    batch_size=batch_size,\n",
    "    label_mode='categorical',\n",
    "    shuffle=False\n",
    ")"
   ]
  },
  {
   "cell_type": "code",
   "execution_count": 11,
   "id": "b0d4451c",
   "metadata": {},
   "outputs": [],
   "source": [
    "# Salvar nomes das classes antes do map\n",
    "class_names = train_ds.class_names"
   ]
  },
  {
   "cell_type": "code",
   "execution_count": 12,
   "id": "1e0b615d",
   "metadata": {},
   "outputs": [],
   "source": [
    "# Normalização\n",
    "normalization_layer = layers.Rescaling(1./255)\n",
    "train_ds = train_ds.map(lambda x, y: (normalization_layer(x), y))\n",
    "val_ds = val_ds.map(lambda x, y: (normalization_layer(x), y))\n",
    "test_ds = test_ds.map(lambda x, y: (normalization_layer(x), y))"
   ]
  },
  {
   "cell_type": "markdown",
   "id": "d799ee96",
   "metadata": {},
   "source": [
    "# 2 Construção do modelo CNN simples "
   ]
  },
  {
   "cell_type": "markdown",
   "id": "17851693",
   "metadata": {},
   "source": [
    "### 🧠 Objetivo da Etapa:\n",
    "Construir um modelo de rede neural convolucional (CNN) capaz de:\n",
    "\n",
    "- Extrair padrões visuais importantes (textura, forma, bordas),\n",
    "\n",
    "- Aprender representações discriminantes para cada tipo de plástico,\n",
    "\n",
    "- Classificar corretamente entre as 7 classes."
   ]
  },
  {
   "cell_type": "markdown",
   "id": "c1a85555",
   "metadata": {},
   "source": [
    "| Camada                     | Função                                                                                     |\n",
    "| -------------------------- | ------------------------------------------------------------------------------------------ |\n",
    "| `Conv2D(32, (3,3), relu)`  | Extrai **32 mapas de características** com filtros 3x3. Detecta bordas, texturas           |\n",
    "| `MaxPooling2D(2,2)`        | Reduz o tamanho das imagens, mantendo os padrões mais fortes (reduz ruído)                 |\n",
    "| `Conv2D(64, (3,3), relu)`  | Agora detecta **padrões mais complexos**, como formas e partes de objetos                  |\n",
    "| `MaxPooling2D(2,2)`        | Continua reduzindo a dimensionalidade para evitar overfitting e acelerar treino            |\n",
    "| `Conv2D(128, (3,3), relu)` | Capta ainda **padrões mais abstratos**, como combinação de partes (ex: logotipo + formato) |\n",
    "| `MaxPooling2D(2,2)`        | Redução final da resolução antes da parte densa                                            |\n",
    "| `Flatten()`                | Converte as features 3D extraídas em vetor 1D para a rede densa                            |\n",
    "| `Dense(128, relu)`         | Camada totalmente conectada com 128 neurônios. Aprende combinações complexas dos padrões   |\n",
    "| `Dense(7, softmax)`        | Saída final com 7 neurônios (1 por classe). Softmax transforma em probabilidades           |\n"
   ]
  },
  {
   "cell_type": "markdown",
   "id": "9ac9924b",
   "metadata": {},
   "source": [
    "| Decisão                                            | Justificativa                                                    |\n",
    "| -------------------------------------------------- | ---------------------------------------------------------------- |\n",
    "| **Filtros pequenos (3x3)**                         | Captam detalhes finos das imagens, muito usados em CNNs modernas |\n",
    "| **Pooling 2x2**                                    | Evita overfitting, reduz dimensionalidade e melhora performance  |\n",
    "| **Aumento progressivo de filtros (32 → 64 → 128)** | Aumenta a complexidade do que o modelo pode aprender             |\n",
    "| **ReLU**                                           | Evita problemas de saturação, acelera o aprendizado              |\n",
    "| **Softmax + categorical\\_crossentropy**            | Ideal para classificação multiclasse com one-hot encoding        |\n"
   ]
  },
  {
   "cell_type": "code",
   "execution_count": 13,
   "id": "d082bada",
   "metadata": {},
   "outputs": [],
   "source": [
    "# CNN simples\n",
    "model = models.Sequential([\n",
    "    layers.Input(shape=(224, 224, 3)),  \n",
    "    layers.Conv2D(32, (3, 3), activation='relu'),\n",
    "    layers.MaxPooling2D((2, 2)),\n",
    "\n",
    "    layers.Conv2D(64, (3, 3), activation='relu'),\n",
    "    layers.MaxPooling2D((2, 2)),\n",
    "\n",
    "    layers.Conv2D(128, (3, 3), activation='relu'),\n",
    "    layers.MaxPooling2D((2, 2)),\n",
    "\n",
    "    layers.Flatten(),\n",
    "    layers.Dense(128, activation='relu'),\n",
    "    layers.Dense(7, activation='softmax')\n",
    "])\n"
   ]
  },
  {
   "cell_type": "code",
   "execution_count": 14,
   "id": "41b63f49",
   "metadata": {},
   "outputs": [
    {
     "data": {
      "text/html": [
       "<pre style=\"white-space:pre;overflow-x:auto;line-height:normal;font-family:Menlo,'DejaVu Sans Mono',consolas,'Courier New',monospace\"><span style=\"font-weight: bold\">Model: \"sequential\"</span>\n",
       "</pre>\n"
      ],
      "text/plain": [
       "\u001b[1mModel: \"sequential\"\u001b[0m\n"
      ]
     },
     "metadata": {},
     "output_type": "display_data"
    },
    {
     "data": {
      "text/html": [
       "<pre style=\"white-space:pre;overflow-x:auto;line-height:normal;font-family:Menlo,'DejaVu Sans Mono',consolas,'Courier New',monospace\">┏━━━━━━━━━━━━━━━━━━━━━━━━━━━━━━━━━━━━━━┳━━━━━━━━━━━━━━━━━━━━━━━━━━━━━┳━━━━━━━━━━━━━━━━━┓\n",
       "┃<span style=\"font-weight: bold\"> Layer (type)                         </span>┃<span style=\"font-weight: bold\"> Output Shape                </span>┃<span style=\"font-weight: bold\">         Param # </span>┃\n",
       "┡━━━━━━━━━━━━━━━━━━━━━━━━━━━━━━━━━━━━━━╇━━━━━━━━━━━━━━━━━━━━━━━━━━━━━╇━━━━━━━━━━━━━━━━━┩\n",
       "│ conv2d (<span style=\"color: #0087ff; text-decoration-color: #0087ff\">Conv2D</span>)                      │ (<span style=\"color: #00d7ff; text-decoration-color: #00d7ff\">None</span>, <span style=\"color: #00af00; text-decoration-color: #00af00\">222</span>, <span style=\"color: #00af00; text-decoration-color: #00af00\">222</span>, <span style=\"color: #00af00; text-decoration-color: #00af00\">32</span>)        │             <span style=\"color: #00af00; text-decoration-color: #00af00\">896</span> │\n",
       "├──────────────────────────────────────┼─────────────────────────────┼─────────────────┤\n",
       "│ max_pooling2d (<span style=\"color: #0087ff; text-decoration-color: #0087ff\">MaxPooling2D</span>)         │ (<span style=\"color: #00d7ff; text-decoration-color: #00d7ff\">None</span>, <span style=\"color: #00af00; text-decoration-color: #00af00\">111</span>, <span style=\"color: #00af00; text-decoration-color: #00af00\">111</span>, <span style=\"color: #00af00; text-decoration-color: #00af00\">32</span>)        │               <span style=\"color: #00af00; text-decoration-color: #00af00\">0</span> │\n",
       "├──────────────────────────────────────┼─────────────────────────────┼─────────────────┤\n",
       "│ conv2d_1 (<span style=\"color: #0087ff; text-decoration-color: #0087ff\">Conv2D</span>)                    │ (<span style=\"color: #00d7ff; text-decoration-color: #00d7ff\">None</span>, <span style=\"color: #00af00; text-decoration-color: #00af00\">109</span>, <span style=\"color: #00af00; text-decoration-color: #00af00\">109</span>, <span style=\"color: #00af00; text-decoration-color: #00af00\">64</span>)        │          <span style=\"color: #00af00; text-decoration-color: #00af00\">18,496</span> │\n",
       "├──────────────────────────────────────┼─────────────────────────────┼─────────────────┤\n",
       "│ max_pooling2d_1 (<span style=\"color: #0087ff; text-decoration-color: #0087ff\">MaxPooling2D</span>)       │ (<span style=\"color: #00d7ff; text-decoration-color: #00d7ff\">None</span>, <span style=\"color: #00af00; text-decoration-color: #00af00\">54</span>, <span style=\"color: #00af00; text-decoration-color: #00af00\">54</span>, <span style=\"color: #00af00; text-decoration-color: #00af00\">64</span>)          │               <span style=\"color: #00af00; text-decoration-color: #00af00\">0</span> │\n",
       "├──────────────────────────────────────┼─────────────────────────────┼─────────────────┤\n",
       "│ conv2d_2 (<span style=\"color: #0087ff; text-decoration-color: #0087ff\">Conv2D</span>)                    │ (<span style=\"color: #00d7ff; text-decoration-color: #00d7ff\">None</span>, <span style=\"color: #00af00; text-decoration-color: #00af00\">52</span>, <span style=\"color: #00af00; text-decoration-color: #00af00\">52</span>, <span style=\"color: #00af00; text-decoration-color: #00af00\">128</span>)         │          <span style=\"color: #00af00; text-decoration-color: #00af00\">73,856</span> │\n",
       "├──────────────────────────────────────┼─────────────────────────────┼─────────────────┤\n",
       "│ max_pooling2d_2 (<span style=\"color: #0087ff; text-decoration-color: #0087ff\">MaxPooling2D</span>)       │ (<span style=\"color: #00d7ff; text-decoration-color: #00d7ff\">None</span>, <span style=\"color: #00af00; text-decoration-color: #00af00\">26</span>, <span style=\"color: #00af00; text-decoration-color: #00af00\">26</span>, <span style=\"color: #00af00; text-decoration-color: #00af00\">128</span>)         │               <span style=\"color: #00af00; text-decoration-color: #00af00\">0</span> │\n",
       "├──────────────────────────────────────┼─────────────────────────────┼─────────────────┤\n",
       "│ flatten (<span style=\"color: #0087ff; text-decoration-color: #0087ff\">Flatten</span>)                    │ (<span style=\"color: #00d7ff; text-decoration-color: #00d7ff\">None</span>, <span style=\"color: #00af00; text-decoration-color: #00af00\">86528</span>)               │               <span style=\"color: #00af00; text-decoration-color: #00af00\">0</span> │\n",
       "├──────────────────────────────────────┼─────────────────────────────┼─────────────────┤\n",
       "│ dense (<span style=\"color: #0087ff; text-decoration-color: #0087ff\">Dense</span>)                        │ (<span style=\"color: #00d7ff; text-decoration-color: #00d7ff\">None</span>, <span style=\"color: #00af00; text-decoration-color: #00af00\">128</span>)                 │      <span style=\"color: #00af00; text-decoration-color: #00af00\">11,075,712</span> │\n",
       "├──────────────────────────────────────┼─────────────────────────────┼─────────────────┤\n",
       "│ dense_1 (<span style=\"color: #0087ff; text-decoration-color: #0087ff\">Dense</span>)                      │ (<span style=\"color: #00d7ff; text-decoration-color: #00d7ff\">None</span>, <span style=\"color: #00af00; text-decoration-color: #00af00\">7</span>)                   │             <span style=\"color: #00af00; text-decoration-color: #00af00\">903</span> │\n",
       "└──────────────────────────────────────┴─────────────────────────────┴─────────────────┘\n",
       "</pre>\n"
      ],
      "text/plain": [
       "┏━━━━━━━━━━━━━━━━━━━━━━━━━━━━━━━━━━━━━━┳━━━━━━━━━━━━━━━━━━━━━━━━━━━━━┳━━━━━━━━━━━━━━━━━┓\n",
       "┃\u001b[1m \u001b[0m\u001b[1mLayer (type)                        \u001b[0m\u001b[1m \u001b[0m┃\u001b[1m \u001b[0m\u001b[1mOutput Shape               \u001b[0m\u001b[1m \u001b[0m┃\u001b[1m \u001b[0m\u001b[1m        Param #\u001b[0m\u001b[1m \u001b[0m┃\n",
       "┡━━━━━━━━━━━━━━━━━━━━━━━━━━━━━━━━━━━━━━╇━━━━━━━━━━━━━━━━━━━━━━━━━━━━━╇━━━━━━━━━━━━━━━━━┩\n",
       "│ conv2d (\u001b[38;5;33mConv2D\u001b[0m)                      │ (\u001b[38;5;45mNone\u001b[0m, \u001b[38;5;34m222\u001b[0m, \u001b[38;5;34m222\u001b[0m, \u001b[38;5;34m32\u001b[0m)        │             \u001b[38;5;34m896\u001b[0m │\n",
       "├──────────────────────────────────────┼─────────────────────────────┼─────────────────┤\n",
       "│ max_pooling2d (\u001b[38;5;33mMaxPooling2D\u001b[0m)         │ (\u001b[38;5;45mNone\u001b[0m, \u001b[38;5;34m111\u001b[0m, \u001b[38;5;34m111\u001b[0m, \u001b[38;5;34m32\u001b[0m)        │               \u001b[38;5;34m0\u001b[0m │\n",
       "├──────────────────────────────────────┼─────────────────────────────┼─────────────────┤\n",
       "│ conv2d_1 (\u001b[38;5;33mConv2D\u001b[0m)                    │ (\u001b[38;5;45mNone\u001b[0m, \u001b[38;5;34m109\u001b[0m, \u001b[38;5;34m109\u001b[0m, \u001b[38;5;34m64\u001b[0m)        │          \u001b[38;5;34m18,496\u001b[0m │\n",
       "├──────────────────────────────────────┼─────────────────────────────┼─────────────────┤\n",
       "│ max_pooling2d_1 (\u001b[38;5;33mMaxPooling2D\u001b[0m)       │ (\u001b[38;5;45mNone\u001b[0m, \u001b[38;5;34m54\u001b[0m, \u001b[38;5;34m54\u001b[0m, \u001b[38;5;34m64\u001b[0m)          │               \u001b[38;5;34m0\u001b[0m │\n",
       "├──────────────────────────────────────┼─────────────────────────────┼─────────────────┤\n",
       "│ conv2d_2 (\u001b[38;5;33mConv2D\u001b[0m)                    │ (\u001b[38;5;45mNone\u001b[0m, \u001b[38;5;34m52\u001b[0m, \u001b[38;5;34m52\u001b[0m, \u001b[38;5;34m128\u001b[0m)         │          \u001b[38;5;34m73,856\u001b[0m │\n",
       "├──────────────────────────────────────┼─────────────────────────────┼─────────────────┤\n",
       "│ max_pooling2d_2 (\u001b[38;5;33mMaxPooling2D\u001b[0m)       │ (\u001b[38;5;45mNone\u001b[0m, \u001b[38;5;34m26\u001b[0m, \u001b[38;5;34m26\u001b[0m, \u001b[38;5;34m128\u001b[0m)         │               \u001b[38;5;34m0\u001b[0m │\n",
       "├──────────────────────────────────────┼─────────────────────────────┼─────────────────┤\n",
       "│ flatten (\u001b[38;5;33mFlatten\u001b[0m)                    │ (\u001b[38;5;45mNone\u001b[0m, \u001b[38;5;34m86528\u001b[0m)               │               \u001b[38;5;34m0\u001b[0m │\n",
       "├──────────────────────────────────────┼─────────────────────────────┼─────────────────┤\n",
       "│ dense (\u001b[38;5;33mDense\u001b[0m)                        │ (\u001b[38;5;45mNone\u001b[0m, \u001b[38;5;34m128\u001b[0m)                 │      \u001b[38;5;34m11,075,712\u001b[0m │\n",
       "├──────────────────────────────────────┼─────────────────────────────┼─────────────────┤\n",
       "│ dense_1 (\u001b[38;5;33mDense\u001b[0m)                      │ (\u001b[38;5;45mNone\u001b[0m, \u001b[38;5;34m7\u001b[0m)                   │             \u001b[38;5;34m903\u001b[0m │\n",
       "└──────────────────────────────────────┴─────────────────────────────┴─────────────────┘\n"
      ]
     },
     "metadata": {},
     "output_type": "display_data"
    },
    {
     "data": {
      "text/html": [
       "<pre style=\"white-space:pre;overflow-x:auto;line-height:normal;font-family:Menlo,'DejaVu Sans Mono',consolas,'Courier New',monospace\"><span style=\"font-weight: bold\"> Total params: </span><span style=\"color: #00af00; text-decoration-color: #00af00\">11,169,863</span> (42.61 MB)\n",
       "</pre>\n"
      ],
      "text/plain": [
       "\u001b[1m Total params: \u001b[0m\u001b[38;5;34m11,169,863\u001b[0m (42.61 MB)\n"
      ]
     },
     "metadata": {},
     "output_type": "display_data"
    },
    {
     "data": {
      "text/html": [
       "<pre style=\"white-space:pre;overflow-x:auto;line-height:normal;font-family:Menlo,'DejaVu Sans Mono',consolas,'Courier New',monospace\"><span style=\"font-weight: bold\"> Trainable params: </span><span style=\"color: #00af00; text-decoration-color: #00af00\">11,169,863</span> (42.61 MB)\n",
       "</pre>\n"
      ],
      "text/plain": [
       "\u001b[1m Trainable params: \u001b[0m\u001b[38;5;34m11,169,863\u001b[0m (42.61 MB)\n"
      ]
     },
     "metadata": {},
     "output_type": "display_data"
    },
    {
     "data": {
      "text/html": [
       "<pre style=\"white-space:pre;overflow-x:auto;line-height:normal;font-family:Menlo,'DejaVu Sans Mono',consolas,'Courier New',monospace\"><span style=\"font-weight: bold\"> Non-trainable params: </span><span style=\"color: #00af00; text-decoration-color: #00af00\">0</span> (0.00 B)\n",
       "</pre>\n"
      ],
      "text/plain": [
       "\u001b[1m Non-trainable params: \u001b[0m\u001b[38;5;34m0\u001b[0m (0.00 B)\n"
      ]
     },
     "metadata": {},
     "output_type": "display_data"
    }
   ],
   "source": [
    "# Compilação\n",
    "model.compile(\n",
    "    optimizer='adam',\n",
    "    loss='categorical_crossentropy',\n",
    "    metrics=['accuracy']\n",
    ")\n",
    "\n",
    "model.summary()"
   ]
  },
  {
   "cell_type": "markdown",
   "id": "283a5bdb",
   "metadata": {},
   "source": [
    "### Entendimento:\n",
    "\n",
    "🧠 O que são parâmetros?\n",
    "\n",
    "São os pesos e vieses aprendidos automaticamente pelo modelo durante o treinamento, e definem como ele faz previsões.\n",
    "\n",
    "| Linha                  | Significado                                                                        |\n",
    "| ---------------------- | ---------------------------------------------------------------------------------- |\n",
    "| `Total params`         | Todos os parâmetros (pesos + vieses) da rede                                       |\n",
    "| `Trainable params`     | Parâmetros que serão atualizados pelo otimizador (ex: Adam)                        |\n",
    "| `Non-trainable params` | Parâmetros congelados (por exemplo, em transfer learning) — **aqui não há nenhum** |\n"
   ]
  },
  {
   "cell_type": "markdown",
   "id": "033d5edd",
   "metadata": {},
   "source": [
    "### 📦 Por que temos 11 milhões de parâmetros?\n",
    "\n",
    "Mesmo com uma CNN simples, ao chegar na camada Flatten e depois Dense(128) + Dense(7), o número de conexões totalmente conectadas cresce rapidamente.\n",
    "\n",
    "Por exemplo:\n",
    "\n",
    "Se a última saída da MaxPooling2D for (26, 26, 128), a Flatten() transforma isso em um vetor de 43264 unidades.\n",
    "\n",
    "- Flatten → Dense(128) = 43264 × 128 + 128 = 5.537.920\n",
    "\n",
    "- Dense(128) → Dense(7) = 128 × 7 + 7 = 903\n",
    "\n",
    "Somando com os parâmetros das camadas convolucionais (que também têm muitos filtros), chega-se facilmente aos 11 milhões."
   ]
  },
  {
   "cell_type": "markdown",
   "id": "2edddf96",
   "metadata": {},
   "source": [
    "### ⚠️ Isso é muito?\n",
    "\n",
    "| Caso                                            | Avaliação                                     |\n",
    "| ----------------------------------------------- | --------------------------------------------- |\n",
    "| Para uma CNN simples em imagens pequenas        | **Sim, é relativamente grande**               |\n",
    "| Para modelos complexos como ResNet/EfficientNet | **É pequeno/modesto**                         |\n",
    "| Para hardware comum (sem GPU)                   | Pode ser **pesado** e lento                   |\n",
    "| Para aprendizado                                | **Didaticamente bom**, mas pode ser otimizado |\n"
   ]
  },
  {
   "cell_type": "markdown",
   "id": "a2fc1e1d",
   "metadata": {},
   "source": [
    "### ✅ Dicas para reduzir parâmetros se necessário:\n",
    "Usar menos filtros (ex: 16, 32, 64 em vez de 32, 64, 128)\n",
    "\n",
    "Adicionar uma camada GlobalAveragePooling2D() em vez de Flatten() para evitar explodir o número de conexões\n",
    "\n",
    "Reduzir a dimensão da imagem de entrada, se aplicável"
   ]
  },
  {
   "cell_type": "markdown",
   "id": "ff487d84",
   "metadata": {},
   "source": [
    "# 3 Treinar o modelo"
   ]
  },
  {
   "cell_type": "code",
   "execution_count": 15,
   "id": "4297a97f",
   "metadata": {},
   "outputs": [
    {
     "name": "stdout",
     "output_type": "stream",
     "text": [
      "Epoch 1/10\n",
      "\u001b[1m46/46\u001b[0m \u001b[32m━━━━━━━━━━━━━━━━━━━━\u001b[0m\u001b[37m\u001b[0m \u001b[1m392s\u001b[0m 9s/step - accuracy: 0.2029 - loss: 2.2265 - val_accuracy: 0.2476 - val_loss: 1.8168\n",
      "Epoch 2/10\n",
      "\u001b[1m46/46\u001b[0m \u001b[32m━━━━━━━━━━━━━━━━━━━━\u001b[0m\u001b[37m\u001b[0m \u001b[1m407s\u001b[0m 9s/step - accuracy: 0.3151 - loss: 1.7562 - val_accuracy: 0.2716 - val_loss: 1.7673\n",
      "Epoch 3/10\n",
      "\u001b[1m46/46\u001b[0m \u001b[32m━━━━━━━━━━━━━━━━━━━━\u001b[0m\u001b[37m\u001b[0m \u001b[1m407s\u001b[0m 8s/step - accuracy: 0.4054 - loss: 1.5764 - val_accuracy: 0.3582 - val_loss: 1.8657\n",
      "Epoch 4/10\n",
      "\u001b[1m46/46\u001b[0m \u001b[32m━━━━━━━━━━━━━━━━━━━━\u001b[0m\u001b[37m\u001b[0m \u001b[1m335s\u001b[0m 7s/step - accuracy: 0.5463 - loss: 1.3059 - val_accuracy: 0.4014 - val_loss: 1.8928\n",
      "Epoch 5/10\n",
      "\u001b[1m46/46\u001b[0m \u001b[32m━━━━━━━━━━━━━━━━━━━━\u001b[0m\u001b[37m\u001b[0m \u001b[1m341s\u001b[0m 7s/step - accuracy: 0.6066 - loss: 1.1175 - val_accuracy: 0.4014 - val_loss: 1.9927\n",
      "Epoch 6/10\n",
      "\u001b[1m46/46\u001b[0m \u001b[32m━━━━━━━━━━━━━━━━━━━━\u001b[0m\u001b[37m\u001b[0m \u001b[1m481s\u001b[0m 10s/step - accuracy: 0.6923 - loss: 0.8823 - val_accuracy: 0.4014 - val_loss: 2.5116\n",
      "Epoch 7/10\n",
      "\u001b[1m46/46\u001b[0m \u001b[32m━━━━━━━━━━━━━━━━━━━━\u001b[0m\u001b[37m\u001b[0m \u001b[1m352s\u001b[0m 8s/step - accuracy: 0.7655 - loss: 0.6507 - val_accuracy: 0.4135 - val_loss: 2.3574\n",
      "Epoch 8/10\n",
      "\u001b[1m46/46\u001b[0m \u001b[32m━━━━━━━━━━━━━━━━━━━━\u001b[0m\u001b[37m\u001b[0m \u001b[1m346s\u001b[0m 8s/step - accuracy: 0.8251 - loss: 0.5006 - val_accuracy: 0.4351 - val_loss: 3.0281\n",
      "Epoch 9/10\n",
      "\u001b[1m46/46\u001b[0m \u001b[32m━━━━━━━━━━━━━━━━━━━━\u001b[0m\u001b[37m\u001b[0m \u001b[1m350s\u001b[0m 8s/step - accuracy: 0.8905 - loss: 0.3346 - val_accuracy: 0.4447 - val_loss: 3.3079\n",
      "Epoch 10/10\n",
      "\u001b[1m46/46\u001b[0m \u001b[32m━━━━━━━━━━━━━━━━━━━━\u001b[0m\u001b[37m\u001b[0m \u001b[1m403s\u001b[0m 9s/step - accuracy: 0.9140 - loss: 0.2528 - val_accuracy: 0.4736 - val_loss: 3.5247\n"
     ]
    }
   ],
   "source": [
    "history = model.fit(\n",
    "    train_ds,\n",
    "    validation_data=val_ds,\n",
    "    epochs=10\n",
    ")"
   ]
  },
  {
   "cell_type": "markdown",
   "id": "b5d7788d",
   "metadata": {},
   "source": [
    "#### 🧠 Interpretação do treinamento do modelo:\n",
    "\n",
    "✅ O que está funcionando:\n",
    "- Acurácia de treino está crescendo bem: de 19% para 93%.\n",
    "\n",
    "- O modelo conseguiu aprender os padrões do conjunto de treino com eficiência.\n",
    "\n",
    "- Isso mostra que sua arquitetura tem capacidade de aprendizado suficiente.\n",
    "\n",
    "#### ⚠️ Problemas claros:\n",
    "\n",
    "🔴 Overfitting severo\n",
    "\n",
    "- A validação estagnou entre 32% e 43%, enquanto o treinamento explodiu até 93%.\n",
    "\n",
    "- A perda de validação está aumentando a cada época (1.8 → 4.1), um sinal clássico de overfitting.\n",
    "\n",
    "#### 🧪 O que isso significa?\n",
    "\n",
    "Seu modelo está memorando o treino, mas não generalizando para dados novos.\n",
    "\n",
    "### 🔧 Causas prováveis\n",
    "\n",
    "| Causa                              | Indício                                      |\n",
    "| ---------------------------------- | -------------------------------------------- |\n",
    "| Modelo com muitos parâmetros (11M) | Overfitting mesmo com pouco treino           |\n",
    "| Pouca regularização (sem Dropout)  | Nenhuma proteção contra sobreajuste          |\n",
    "| Dataset pequeno (por classe)       | Algumas classes com <200 imagens             |\n",
    "| Aumento de dados não utilizado     | Nenhum `ImageDataGenerator` / `augmentation` |\n",
    "| Arquitetura simples                | Falta de generalização                       |\n"
   ]
  },
  {
   "cell_type": "markdown",
   "id": "615dd0c7",
   "metadata": {},
   "source": [
    "\n",
    "OBservação:\n",
    "Aplicar técnicas de regularização (Dropout, BatchNormalization).\n",
    "\n",
    "Otimizar arquitetura ou testar transfer learning (ResNet, EfficientNet etc.)."
   ]
  },
  {
   "cell_type": "markdown",
   "id": "5a1afdf9",
   "metadata": {},
   "source": [
    "# 4 Visualização de desempenho"
   ]
  },
  {
   "cell_type": "code",
   "execution_count": 16,
   "id": "8ea5cea1",
   "metadata": {},
   "outputs": [
    {
     "data": {
      "image/png": "[encoded data removed]",
      "text/plain": [
       "<Figure size 1200x500 with 2 Axes>"
      ]
     },
     "metadata": {},
     "output_type": "display_data"
    }
   ],
   "source": [
    "def plot_history(hist):\n",
    "    acc = hist.history['accuracy']\n",
    "    val_acc = hist.history['val_accuracy']\n",
    "    loss = hist.history['loss']\n",
    "    val_loss = hist.history['val_loss']\n",
    "    epochs_range = range(len(acc))\n",
    "\n",
    "    plt.figure(figsize=(12, 5))\n",
    "    plt.subplot(1, 2, 1)\n",
    "    plt.plot(epochs_range, acc, label='Treino')\n",
    "    plt.plot(epochs_range, val_acc, label='Validação')\n",
    "    plt.title('Acurácia')\n",
    "    plt.legend()\n",
    "\n",
    "    plt.subplot(1, 2, 2)\n",
    "    plt.plot(epochs_range, loss, label='Treino')\n",
    "    plt.plot(epochs_range, val_loss, label='Validação')\n",
    "    plt.title('Perda')\n",
    "    plt.legend()\n",
    "\n",
    "    plt.tight_layout()\n",
    "    plt.show()\n",
    "\n",
    "plot_history(history)\n"
   ]
  },
  {
   "cell_type": "markdown",
   "id": "93269c50",
   "metadata": {},
   "source": [
    "# 5 Avaliação no conjunto de teste"
   ]
  },
  {
   "cell_type": "code",
   "execution_count": 17,
   "id": "5c7ad6dc",
   "metadata": {},
   "outputs": [
    {
     "name": "stdout",
     "output_type": "stream",
     "text": [
      "\u001b[1m7/7\u001b[0m \u001b[32m━━━━━━━━━━━━━━━━━━━━\u001b[0m\u001b[37m\u001b[0m \u001b[1m9s\u001b[0m 1s/step - accuracy: 0.3492 - loss: 4.2148\n",
      "\n",
      "🎯 Acurácia no conjunto de teste: 37.32%\n"
     ]
    }
   ],
   "source": [
    "test_loss, test_acc = model.evaluate(test_ds)\n",
    "print(f'\\n🎯 Acurácia no conjunto de teste: {test_acc:.2%}')\n"
   ]
  },
  {
   "cell_type": "markdown",
   "id": "11fe102f",
   "metadata": {},
   "source": [
    "# 6 Conclusão "
   ]
  },
  {
   "cell_type": "markdown",
   "id": "86a2be7e",
   "metadata": {},
   "source": [
    "Foi verificado que o modelo não performou bem sendo necessario realizar ajustes para corrigir os overfitting e melhorar o desempenho"
   ]
  },
  {
   "cell_type": "markdown",
   "id": "61bcac40",
   "metadata": {},
   "source": [
    "### Salvar o modelo treinado"
   ]
  },
  {
   "cell_type": "code",
   "execution_count": 18,
   "id": "8e2e88d8",
   "metadata": {},
   "outputs": [],
   "source": [
    "# Salvar em formato Keras (.keras)\n",
    "model.save(\"./modelos/modelo_cnn_simples_plasticos.keras\", include_optimizer=True)\n"
   ]
  },
  {
   "cell_type": "markdown",
   "id": "e742f3af",
   "metadata": {},
   "source": [
    "#### Para carregar depois:\n",
    "\n",
    "'''\n",
    "    from tensorflow.keras.models import load_model\n",
    "\n",
    "    modelo_treinado = load_model(\"modelo_cnn_plasticos.keras\")\n",
    "\n",
    "'''"
   ]
  },
  {
   "cell_type": "code",
   "execution_count": null,
   "id": "3ec7d3fb",
   "metadata": {},
   "outputs": [],
   "source": []
  }
 ],
 "metadata": {
  "kernelspec": {
   "display_name": "Python 3 (ipykernel)",
   "language": "python",
   "name": "python3"
  },
  "language_info": {
   "codemirror_mode": {
    "name": "ipython",
    "version": 3
   },
   "file_extension": ".py",
   "mimetype": "text/x-python",
   "name": "python",
   "nbconvert_exporter": "python",
   "pygments_lexer": "ipython3",
   "version": "3.11.5"
  }
 },
 "nbformat": 4,
 "nbformat_minor": 5
}
