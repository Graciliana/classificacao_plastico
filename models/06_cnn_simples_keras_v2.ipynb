{
 "cells": [
  {
   "cell_type": "markdown",
   "id": "f1f586d5",
   "metadata": {},
   "source": [
    "# CNN Simples v2"
   ]
  },
  {
   "cell_type": "markdown",
   "id": "8802faf4",
   "metadata": {},
   "source": [
    "## Pipeline do Projeto\n",
    "\n",
    "1. Importação das bibliotecas\n",
    "\n",
    "2. Carregamento e visualização do dataset\n",
    "\n",
    "3. Pré-processamento das imagens\n",
    "\n",
    "4. Criação do modelo CNN simples\n",
    "\n",
    "5. Treinamento e validação do modelo\n",
    "\n",
    "6. Análise de desempenho\n",
    "\n",
    "7. (Próximos notebooks) Ajustes para correção de overfitting e uso de MobileNet"
   ]
  },
  {
   "cell_type": "markdown",
   "id": "c5fb5cee",
   "metadata": {},
   "source": [
    "Claro! Aqui estão as **melhorias** aplicadas na versão **CNN Simples v2**, em relação à versão anterior:\n",
    "\n",
    "---\n",
    "\n",
    "### 🔧 **1. Normalização e Data Augmentation**\n",
    "\n",
    "**Melhoria**: aumentamos a variabilidade do treino sem adicionar novas imagens.\n",
    "\n",
    "```python\n",
    "data_augmentation = tf.keras.Sequential([\n",
    "    tf.keras.layers.RandomFlip(\"horizontal\"),\n",
    "    tf.keras.layers.RandomRotation(0.1),\n",
    "    tf.keras.layers.RandomZoom(0.1),\n",
    "    tf.keras.layers.Rescaling(1./255)  # normalização embutida aqui\n",
    "])\n",
    "```\n",
    "\n",
    "---\n",
    "\n",
    "### 🧱 **2. Arquitetura CNN aprimorada**\n",
    "\n",
    "**Melhoria**: inserimos camadas modernas que ajudam a estabilizar e generalizar o modelo:\n",
    "\n",
    "* **BatchNormalization**: acelera o treino e melhora a performance\n",
    "* **Dropout**: previne overfitting\n",
    "* **GlobalAveragePooling2D**: reduz drasticamente os parâmetros antes da camada densa\n",
    "\n",
    "```python\n",
    "model = tf.keras.Sequential([\n",
    "    tf.keras.layers.Input(shape=image_shape),\n",
    "    data_augmentation,\n",
    "    \n",
    "    tf.keras.layers.Conv2D(32, (3, 3), activation='relu'),\n",
    "    tf.keras.layers.BatchNormalization(),\n",
    "    tf.keras.layers.MaxPooling2D(),\n",
    "\n",
    "    tf.keras.layers.Conv2D(64, (3, 3), activation='relu'),\n",
    "    tf.keras.layers.BatchNormalization(),\n",
    "    tf.keras.layers.MaxPooling2D(),\n",
    "\n",
    "    tf.keras.layers.Conv2D(128, (3, 3), activation='relu'),\n",
    "    tf.keras.layers.BatchNormalization(),\n",
    "    tf.keras.layers.MaxPooling2D(),\n",
    "\n",
    "    tf.keras.layers.GlobalAveragePooling2D(),\n",
    "    tf.keras.layers.Dense(128, activation='relu'),\n",
    "    tf.keras.layers.Dropout(0.5),\n",
    "    tf.keras.layers.Dense(num_classes, activation='softmax')\n",
    "])\n",
    "```\n",
    "\n",
    "---\n",
    "\n",
    "### ⏱️ **3. Callbacks inteligentes**\n",
    "\n",
    "**Melhoria**: controle automático do treino com:\n",
    "\n",
    "* **EarlyStopping**: para o treino se não melhorar por algumas épocas\n",
    "* **ReduceLROnPlateau**: reduz a taxa de aprendizado ao detectar platôs\n",
    "\n",
    "```python\n",
    "callbacks = [\n",
    "    tf.keras.callbacks.EarlyStopping(patience=5, restore_best_weights=True),\n",
    "    tf.keras.callbacks.ReduceLROnPlateau(factor=0.3, patience=2)\n",
    "]\n",
    "```\n",
    "\n",
    "---\n",
    "\n",
    "### 🧪 **4. Avaliação completa**\n",
    "\n",
    "Incluímos todos os indicadores:\n",
    "\n",
    "* Acurácia\n",
    "* F1-score ponderado\n",
    "* Log Loss\n",
    "* Tempo médio de inferência por imagem\n",
    "* Matriz de confusão\n",
    "* Relatório de classificação por classe\n",
    "\n",
    "---\n",
    "\n",
    "### 💾 **5. Salvamento para comparação**\n",
    "\n",
    "O modelo e as métricas foram salvos para facilitar a comparação com:\n",
    "\n",
    "* Logistic Regression\n",
    "* Naive Bayes\n",
    "* Random Forest\n",
    "* SVM\n",
    "* CNN Simples v1\n",
    "\n",
    "---\n"
   ]
  },
  {
   "cell_type": "markdown",
   "id": "f0dd287e",
   "metadata": {},
   "source": [
    "# 0 Importação das bibliotecas"
   ]
  },
  {
   "cell_type": "code",
   "execution_count": 22,
   "id": "ef6d0c05",
   "metadata": {},
   "outputs": [],
   "source": [
    "import os\n",
    "import time\n",
    "import numpy as np\n",
    "import tensorflow as tf\n",
    "import matplotlib.pyplot as plt\n",
    "from sklearn.metrics import classification_report, confusion_matrix, f1_score, log_loss, accuracy_score\n",
    "import seaborn as sns\n",
    "import joblib\n",
    "import json\n",
    "import random"
   ]
  },
  {
   "cell_type": "code",
   "execution_count": 2,
   "id": "12edfccd",
   "metadata": {},
   "outputs": [],
   "source": [
    "import tensorflow as tf\n",
    "from tensorflow.keras.models import Sequential\n",
    "from tensorflow.keras.layers import Dense, Input, Activation\n",
    "from tensorflow.keras.preprocessing import image\n",
    "from tensorflow.keras import layers, models, Input\n",
    "from tensorflow.keras.callbacks import EarlyStopping\n"
   ]
  },
  {
   "cell_type": "code",
   "execution_count": 19,
   "id": "38a92da0",
   "metadata": {},
   "outputs": [],
   "source": [
    "import seaborn as sns\n",
    "import matplotlib.pyplot as plt\n",
    "from sklearn.metrics import confusion_matrix"
   ]
  },
  {
   "cell_type": "code",
   "execution_count": 3,
   "id": "849e3cf8",
   "metadata": {},
   "outputs": [],
   "source": [
    "SEED_VALUE = 42\n",
    "\n",
    "# Fix seed to make training deterministic.\n",
    "np.random.seed(SEED_VALUE)\n",
    "tf.random.set_seed(SEED_VALUE)"
   ]
  },
  {
   "cell_type": "markdown",
   "id": "9d6a4319",
   "metadata": {},
   "source": [
    "# 1 Definição dos parâmetros"
   ]
  },
  {
   "cell_type": "code",
   "execution_count": 4,
   "id": "c52657b7",
   "metadata": {},
   "outputs": [],
   "source": [
    "image_width = 224\n",
    "image_height = 224\n",
    "image_color_channel = 3\n",
    "image_size = (image_width, image_height)\n",
    "image_shape = image_size + (image_color_channel,)\n",
    "num_classes = 7\n",
    "batch_size = 32\n",
    "base_dir = './datasets/Plastic_Classification/'"
   ]
  },
  {
   "cell_type": "markdown",
   "id": "44e183da",
   "metadata": {},
   "source": [
    "# 2 Carregamento e visualização do dataset"
   ]
  },
  {
   "cell_type": "code",
   "execution_count": 5,
   "id": "6d01f087",
   "metadata": {},
   "outputs": [
    {
     "name": "stdout",
     "output_type": "stream",
     "text": [
      "Found 1441 files belonging to 7 classes.\n",
      "Found 416 files belonging to 7 classes.\n",
      "Found 209 files belonging to 7 classes.\n"
     ]
    }
   ],
   "source": [
    "train_ds = tf.keras.utils.image_dataset_from_directory(\n",
    "    os.path.join(base_dir, 'train'),\n",
    "    image_size=image_size,\n",
    "    batch_size=batch_size,\n",
    "    seed=42\n",
    ")\n",
    "\n",
    "val_ds = tf.keras.utils.image_dataset_from_directory(\n",
    "    os.path.join(base_dir, 'validation'),\n",
    "    image_size=image_size,\n",
    "    batch_size=batch_size,\n",
    "    seed=42\n",
    ")\n",
    "\n",
    "test_ds = tf.keras.utils.image_dataset_from_directory(\n",
    "    os.path.join(base_dir, 'test'),\n",
    "    image_size=image_size,\n",
    "    batch_size=batch_size,\n",
    "    shuffle=False\n",
    ")\n",
    "\n",
    "class_names = train_ds.class_names\n",
    "num_classes = len(class_names)\n",
    "\n",
    "AUTOTUNE = tf.data.AUTOTUNE\n",
    "train_ds = train_ds.prefetch(AUTOTUNE)\n",
    "val_ds = val_ds.prefetch(AUTOTUNE)\n",
    "test_ds = test_ds.prefetch(AUTOTUNE)\n",
    "\n"
   ]
  },
  {
   "cell_type": "code",
   "execution_count": null,
   "id": "fcb10ceb",
   "metadata": {},
   "outputs": [],
   "source": []
  },
  {
   "cell_type": "markdown",
   "id": "fdf3d053",
   "metadata": {},
   "source": [
    "# 3 Otimização de desempenho"
   ]
  },
  {
   "cell_type": "code",
   "execution_count": 6,
   "id": "f07c8baa",
   "metadata": {},
   "outputs": [],
   "source": [
    "# Aumento de dados (Data Augmentation)\n",
    "data_augmentation = tf.keras.Sequential([\n",
    "    tf.keras.layers.RandomFlip(\"horizontal\"),\n",
    "    tf.keras.layers.RandomRotation(0.1),\n",
    "    tf.keras.layers.RandomZoom(0.1)\n",
    "])\n"
   ]
  },
  {
   "cell_type": "markdown",
   "id": "28c71a66",
   "metadata": {},
   "source": [
    "# 4 Criar Modelo CNN Simples v2"
   ]
  },
  {
   "cell_type": "code",
   "execution_count": 7,
   "id": "7ab3d7e2",
   "metadata": {},
   "outputs": [
    {
     "name": "stderr",
     "output_type": "stream",
     "text": [
      "C:\\Users\\graci.DESKTOP-I7T8UK6\\AppData\\Roaming\\Python\\Python311\\site-packages\\keras\\src\\layers\\preprocessing\\tf_data_layer.py:19: UserWarning: Do not pass an `input_shape`/`input_dim` argument to a layer. When using Sequential models, prefer using an `Input(shape)` object as the first layer in the model instead.\n",
      "  super().__init__(**kwargs)\n"
     ]
    }
   ],
   "source": [
    "# Modelo CNN v2\n",
    "model = tf.keras.Sequential([\n",
    "    tf.keras.layers.Rescaling(1./255, input_shape=(224, 224, 3)),\n",
    "    tf.keras.layers.Conv2D(16, 3, activation='relu'),\n",
    "    tf.keras.layers.MaxPooling2D(),\n",
    "    tf.keras.layers.Conv2D(32, 3, activation='relu'),\n",
    "    tf.keras.layers.MaxPooling2D(),\n",
    "    tf.keras.layers.Flatten(),\n",
    "    tf.keras.layers.Dense(128, activation='relu'),\n",
    "    tf.keras.layers.Dense(num_classes, activation='softmax')\n",
    "])"
   ]
  },
  {
   "cell_type": "code",
   "execution_count": 8,
   "id": "f8e16d66",
   "metadata": {},
   "outputs": [],
   "source": [
    "model.compile(\n",
    "    optimizer=tf.keras.optimizers.Adam(learning_rate=1e-4),\n",
    "    loss='sparse_categorical_crossentropy',\n",
    "    metrics=['accuracy']\n",
    ")"
   ]
  },
  {
   "cell_type": "code",
   "execution_count": 9,
   "id": "33301fff",
   "metadata": {},
   "outputs": [
    {
     "data": {
      "text/html": [
       "<pre style=\"white-space:pre;overflow-x:auto;line-height:normal;font-family:Menlo,'DejaVu Sans Mono',consolas,'Courier New',monospace\"><span style=\"font-weight: bold\">Model: \"sequential_1\"</span>\n",
       "</pre>\n"
      ],
      "text/plain": [
       "\u001b[1mModel: \"sequential_1\"\u001b[0m\n"
      ]
     },
     "metadata": {},
     "output_type": "display_data"
    },
    {
     "data": {
      "text/html": [
       "<pre style=\"white-space:pre;overflow-x:auto;line-height:normal;font-family:Menlo,'DejaVu Sans Mono',consolas,'Courier New',monospace\">┏━━━━━━━━━━━━━━━━━━━━━━━━━━━━━━━━━━━━━━┳━━━━━━━━━━━━━━━━━━━━━━━━━━━━━┳━━━━━━━━━━━━━━━━━┓\n",
       "┃<span style=\"font-weight: bold\"> Layer (type)                         </span>┃<span style=\"font-weight: bold\"> Output Shape                </span>┃<span style=\"font-weight: bold\">         Param # </span>┃\n",
       "┡━━━━━━━━━━━━━━━━━━━━━━━━━━━━━━━━━━━━━━╇━━━━━━━━━━━━━━━━━━━━━━━━━━━━━╇━━━━━━━━━━━━━━━━━┩\n",
       "│ rescaling (<span style=\"color: #0087ff; text-decoration-color: #0087ff\">Rescaling</span>)                │ (<span style=\"color: #00d7ff; text-decoration-color: #00d7ff\">None</span>, <span style=\"color: #00af00; text-decoration-color: #00af00\">224</span>, <span style=\"color: #00af00; text-decoration-color: #00af00\">224</span>, <span style=\"color: #00af00; text-decoration-color: #00af00\">3</span>)         │               <span style=\"color: #00af00; text-decoration-color: #00af00\">0</span> │\n",
       "├──────────────────────────────────────┼─────────────────────────────┼─────────────────┤\n",
       "│ conv2d (<span style=\"color: #0087ff; text-decoration-color: #0087ff\">Conv2D</span>)                      │ (<span style=\"color: #00d7ff; text-decoration-color: #00d7ff\">None</span>, <span style=\"color: #00af00; text-decoration-color: #00af00\">222</span>, <span style=\"color: #00af00; text-decoration-color: #00af00\">222</span>, <span style=\"color: #00af00; text-decoration-color: #00af00\">16</span>)        │             <span style=\"color: #00af00; text-decoration-color: #00af00\">448</span> │\n",
       "├──────────────────────────────────────┼─────────────────────────────┼─────────────────┤\n",
       "│ max_pooling2d (<span style=\"color: #0087ff; text-decoration-color: #0087ff\">MaxPooling2D</span>)         │ (<span style=\"color: #00d7ff; text-decoration-color: #00d7ff\">None</span>, <span style=\"color: #00af00; text-decoration-color: #00af00\">111</span>, <span style=\"color: #00af00; text-decoration-color: #00af00\">111</span>, <span style=\"color: #00af00; text-decoration-color: #00af00\">16</span>)        │               <span style=\"color: #00af00; text-decoration-color: #00af00\">0</span> │\n",
       "├──────────────────────────────────────┼─────────────────────────────┼─────────────────┤\n",
       "│ conv2d_1 (<span style=\"color: #0087ff; text-decoration-color: #0087ff\">Conv2D</span>)                    │ (<span style=\"color: #00d7ff; text-decoration-color: #00d7ff\">None</span>, <span style=\"color: #00af00; text-decoration-color: #00af00\">109</span>, <span style=\"color: #00af00; text-decoration-color: #00af00\">109</span>, <span style=\"color: #00af00; text-decoration-color: #00af00\">32</span>)        │           <span style=\"color: #00af00; text-decoration-color: #00af00\">4,640</span> │\n",
       "├──────────────────────────────────────┼─────────────────────────────┼─────────────────┤\n",
       "│ max_pooling2d_1 (<span style=\"color: #0087ff; text-decoration-color: #0087ff\">MaxPooling2D</span>)       │ (<span style=\"color: #00d7ff; text-decoration-color: #00d7ff\">None</span>, <span style=\"color: #00af00; text-decoration-color: #00af00\">54</span>, <span style=\"color: #00af00; text-decoration-color: #00af00\">54</span>, <span style=\"color: #00af00; text-decoration-color: #00af00\">32</span>)          │               <span style=\"color: #00af00; text-decoration-color: #00af00\">0</span> │\n",
       "├──────────────────────────────────────┼─────────────────────────────┼─────────────────┤\n",
       "│ flatten (<span style=\"color: #0087ff; text-decoration-color: #0087ff\">Flatten</span>)                    │ (<span style=\"color: #00d7ff; text-decoration-color: #00d7ff\">None</span>, <span style=\"color: #00af00; text-decoration-color: #00af00\">93312</span>)               │               <span style=\"color: #00af00; text-decoration-color: #00af00\">0</span> │\n",
       "├──────────────────────────────────────┼─────────────────────────────┼─────────────────┤\n",
       "│ dense (<span style=\"color: #0087ff; text-decoration-color: #0087ff\">Dense</span>)                        │ (<span style=\"color: #00d7ff; text-decoration-color: #00d7ff\">None</span>, <span style=\"color: #00af00; text-decoration-color: #00af00\">128</span>)                 │      <span style=\"color: #00af00; text-decoration-color: #00af00\">11,944,064</span> │\n",
       "├──────────────────────────────────────┼─────────────────────────────┼─────────────────┤\n",
       "│ dense_1 (<span style=\"color: #0087ff; text-decoration-color: #0087ff\">Dense</span>)                      │ (<span style=\"color: #00d7ff; text-decoration-color: #00d7ff\">None</span>, <span style=\"color: #00af00; text-decoration-color: #00af00\">7</span>)                   │             <span style=\"color: #00af00; text-decoration-color: #00af00\">903</span> │\n",
       "└──────────────────────────────────────┴─────────────────────────────┴─────────────────┘\n",
       "</pre>\n"
      ],
      "text/plain": [
       "┏━━━━━━━━━━━━━━━━━━━━━━━━━━━━━━━━━━━━━━┳━━━━━━━━━━━━━━━━━━━━━━━━━━━━━┳━━━━━━━━━━━━━━━━━┓\n",
       "┃\u001b[1m \u001b[0m\u001b[1mLayer (type)                        \u001b[0m\u001b[1m \u001b[0m┃\u001b[1m \u001b[0m\u001b[1mOutput Shape               \u001b[0m\u001b[1m \u001b[0m┃\u001b[1m \u001b[0m\u001b[1m        Param #\u001b[0m\u001b[1m \u001b[0m┃\n",
       "┡━━━━━━━━━━━━━━━━━━━━━━━━━━━━━━━━━━━━━━╇━━━━━━━━━━━━━━━━━━━━━━━━━━━━━╇━━━━━━━━━━━━━━━━━┩\n",
       "│ rescaling (\u001b[38;5;33mRescaling\u001b[0m)                │ (\u001b[38;5;45mNone\u001b[0m, \u001b[38;5;34m224\u001b[0m, \u001b[38;5;34m224\u001b[0m, \u001b[38;5;34m3\u001b[0m)         │               \u001b[38;5;34m0\u001b[0m │\n",
       "├──────────────────────────────────────┼─────────────────────────────┼─────────────────┤\n",
       "│ conv2d (\u001b[38;5;33mConv2D\u001b[0m)                      │ (\u001b[38;5;45mNone\u001b[0m, \u001b[38;5;34m222\u001b[0m, \u001b[38;5;34m222\u001b[0m, \u001b[38;5;34m16\u001b[0m)        │             \u001b[38;5;34m448\u001b[0m │\n",
       "├──────────────────────────────────────┼─────────────────────────────┼─────────────────┤\n",
       "│ max_pooling2d (\u001b[38;5;33mMaxPooling2D\u001b[0m)         │ (\u001b[38;5;45mNone\u001b[0m, \u001b[38;5;34m111\u001b[0m, \u001b[38;5;34m111\u001b[0m, \u001b[38;5;34m16\u001b[0m)        │               \u001b[38;5;34m0\u001b[0m │\n",
       "├──────────────────────────────────────┼─────────────────────────────┼─────────────────┤\n",
       "│ conv2d_1 (\u001b[38;5;33mConv2D\u001b[0m)                    │ (\u001b[38;5;45mNone\u001b[0m, \u001b[38;5;34m109\u001b[0m, \u001b[38;5;34m109\u001b[0m, \u001b[38;5;34m32\u001b[0m)        │           \u001b[38;5;34m4,640\u001b[0m │\n",
       "├──────────────────────────────────────┼─────────────────────────────┼─────────────────┤\n",
       "│ max_pooling2d_1 (\u001b[38;5;33mMaxPooling2D\u001b[0m)       │ (\u001b[38;5;45mNone\u001b[0m, \u001b[38;5;34m54\u001b[0m, \u001b[38;5;34m54\u001b[0m, \u001b[38;5;34m32\u001b[0m)          │               \u001b[38;5;34m0\u001b[0m │\n",
       "├──────────────────────────────────────┼─────────────────────────────┼─────────────────┤\n",
       "│ flatten (\u001b[38;5;33mFlatten\u001b[0m)                    │ (\u001b[38;5;45mNone\u001b[0m, \u001b[38;5;34m93312\u001b[0m)               │               \u001b[38;5;34m0\u001b[0m │\n",
       "├──────────────────────────────────────┼─────────────────────────────┼─────────────────┤\n",
       "│ dense (\u001b[38;5;33mDense\u001b[0m)                        │ (\u001b[38;5;45mNone\u001b[0m, \u001b[38;5;34m128\u001b[0m)                 │      \u001b[38;5;34m11,944,064\u001b[0m │\n",
       "├──────────────────────────────────────┼─────────────────────────────┼─────────────────┤\n",
       "│ dense_1 (\u001b[38;5;33mDense\u001b[0m)                      │ (\u001b[38;5;45mNone\u001b[0m, \u001b[38;5;34m7\u001b[0m)                   │             \u001b[38;5;34m903\u001b[0m │\n",
       "└──────────────────────────────────────┴─────────────────────────────┴─────────────────┘\n"
      ]
     },
     "metadata": {},
     "output_type": "display_data"
    },
    {
     "data": {
      "text/html": [
       "<pre style=\"white-space:pre;overflow-x:auto;line-height:normal;font-family:Menlo,'DejaVu Sans Mono',consolas,'Courier New',monospace\"><span style=\"font-weight: bold\"> Total params: </span><span style=\"color: #00af00; text-decoration-color: #00af00\">11,950,055</span> (45.59 MB)\n",
       "</pre>\n"
      ],
      "text/plain": [
       "\u001b[1m Total params: \u001b[0m\u001b[38;5;34m11,950,055\u001b[0m (45.59 MB)\n"
      ]
     },
     "metadata": {},
     "output_type": "display_data"
    },
    {
     "data": {
      "text/html": [
       "<pre style=\"white-space:pre;overflow-x:auto;line-height:normal;font-family:Menlo,'DejaVu Sans Mono',consolas,'Courier New',monospace\"><span style=\"font-weight: bold\"> Trainable params: </span><span style=\"color: #00af00; text-decoration-color: #00af00\">11,950,055</span> (45.59 MB)\n",
       "</pre>\n"
      ],
      "text/plain": [
       "\u001b[1m Trainable params: \u001b[0m\u001b[38;5;34m11,950,055\u001b[0m (45.59 MB)\n"
      ]
     },
     "metadata": {},
     "output_type": "display_data"
    },
    {
     "data": {
      "text/html": [
       "<pre style=\"white-space:pre;overflow-x:auto;line-height:normal;font-family:Menlo,'DejaVu Sans Mono',consolas,'Courier New',monospace\"><span style=\"font-weight: bold\"> Non-trainable params: </span><span style=\"color: #00af00; text-decoration-color: #00af00\">0</span> (0.00 B)\n",
       "</pre>\n"
      ],
      "text/plain": [
       "\u001b[1m Non-trainable params: \u001b[0m\u001b[38;5;34m0\u001b[0m (0.00 B)\n"
      ]
     },
     "metadata": {},
     "output_type": "display_data"
    }
   ],
   "source": [
    "model.summary()"
   ]
  },
  {
   "cell_type": "code",
   "execution_count": 10,
   "id": "a64e63c0",
   "metadata": {},
   "outputs": [],
   "source": [
    "# Early stopping para evitar overfitting\n",
    "early_stop = EarlyStopping(monitor='val_loss', patience=3, restore_best_weights=True)"
   ]
  },
  {
   "cell_type": "markdown",
   "id": "68d4bb43",
   "metadata": {},
   "source": [
    "# 5 Treinamento "
   ]
  },
  {
   "cell_type": "code",
   "execution_count": 25,
   "id": "9eda3853",
   "metadata": {},
   "outputs": [
    {
     "name": "stdout",
     "output_type": "stream",
     "text": [
      "Epoch 1/20\n",
      "\u001b[1m46/46\u001b[0m \u001b[32m━━━━━━━━━━━━━━━━━━━━\u001b[0m\u001b[37m\u001b[0m \u001b[1m80s\u001b[0m 2s/step - accuracy: 0.5841 - loss: 1.3186 - val_accuracy: 0.3341 - val_loss: 1.7833\n",
      "Epoch 2/20\n",
      "\u001b[1m46/46\u001b[0m \u001b[32m━━━━━━━━━━━━━━━━━━━━\u001b[0m\u001b[37m\u001b[0m \u001b[1m190s\u001b[0m 4s/step - accuracy: 0.5253 - loss: 1.3848 - val_accuracy: 0.3966 - val_loss: 1.6640\n",
      "Epoch 3/20\n",
      "\u001b[1m46/46\u001b[0m \u001b[32m━━━━━━━━━━━━━━━━━━━━\u001b[0m\u001b[37m\u001b[0m \u001b[1m141s\u001b[0m 3s/step - accuracy: 0.5782 - loss: 1.2470 - val_accuracy: 0.3077 - val_loss: 1.8239\n",
      "Epoch 4/20\n",
      "\u001b[1m46/46\u001b[0m \u001b[32m━━━━━━━━━━━━━━━━━━━━\u001b[0m\u001b[37m\u001b[0m \u001b[1m121s\u001b[0m 2s/step - accuracy: 0.5022 - loss: 1.3738 - val_accuracy: 0.3966 - val_loss: 1.6906\n",
      "Epoch 5/20\n",
      "\u001b[1m46/46\u001b[0m \u001b[32m━━━━━━━━━━━━━━━━━━━━\u001b[0m\u001b[37m\u001b[0m \u001b[1m120s\u001b[0m 2s/step - accuracy: 0.5642 - loss: 1.2453 - val_accuracy: 0.4207 - val_loss: 1.6457\n",
      "Epoch 6/20\n",
      "\u001b[1m46/46\u001b[0m \u001b[32m━━━━━━━━━━━━━━━━━━━━\u001b[0m\u001b[37m\u001b[0m \u001b[1m99s\u001b[0m 2s/step - accuracy: 0.6337 - loss: 1.1322 - val_accuracy: 0.4207 - val_loss: 1.6365\n",
      "Epoch 7/20\n",
      "\u001b[1m46/46\u001b[0m \u001b[32m━━━━━━━━━━━━━━━━━━━━\u001b[0m\u001b[37m\u001b[0m \u001b[1m150s\u001b[0m 2s/step - accuracy: 0.6723 - loss: 1.0639 - val_accuracy: 0.3870 - val_loss: 1.6561\n",
      "Epoch 8/20\n",
      "\u001b[1m46/46\u001b[0m \u001b[32m━━━━━━━━━━━━━━━━━━━━\u001b[0m\u001b[37m\u001b[0m \u001b[1m207s\u001b[0m 4s/step - accuracy: 0.6379 - loss: 1.0604 - val_accuracy: 0.3894 - val_loss: 1.7060\n",
      "Epoch 9/20\n",
      "\u001b[1m46/46\u001b[0m \u001b[32m━━━━━━━━━━━━━━━━━━━━\u001b[0m\u001b[37m\u001b[0m \u001b[1m182s\u001b[0m 3s/step - accuracy: 0.6188 - loss: 1.1455 - val_accuracy: 0.3918 - val_loss: 1.6920\n"
     ]
    }
   ],
   "source": [
    "# Treinamento\n",
    "start_train = time.time()\n",
    "history = model.fit(\n",
    "    train_ds,\n",
    "    validation_data=val_ds,\n",
    "    epochs=20,\n",
    "    callbacks=[early_stop]\n",
    ")\n",
    "train_time = time.time() - start_train\n"
   ]
  },
  {
   "cell_type": "markdown",
   "id": "25dcdbf7",
   "metadata": {},
   "source": [
    "| Métrica                       | Observação                                                                                                     |\n",
    "| ----------------------------- | -------------------------------------------------------------------------------------------------------------- |\n",
    "| 🔺 **Loss (Treinamento)**     | Cai consistentemente de `2.01` para `0.87`, o que é positivo — o modelo está aprendendo no conjunto de treino. |\n",
    "| 🔻 **Val\\_loss (Validação)**  | Oscila, mas **não melhora muito** (fica entre `1.6` e `1.7`), sugerindo **overfitting**.                       |\n",
    "| 📈 **Accuracy (Treinamento)** | Sobe de `0.19` para `0.74`, mostrando aprendizado forte no treino.                                             |\n",
    "| 🔁 **Val\\_accuracy**          | Sobe devagar e **estagna entre 0.34 e 0.42**, o que mostra que o modelo **não generaliza bem**.                |\n",
    "\n",
    "\n",
    "- Modelo está memorizando os dados de treino, mas não consegue generalizar bem nos dados de validação.\n",
    "\n",
    "- Provavelmente está ocorrendo overfitting a partir da época 6–7.\n",
    "\n",
    "- O val_loss não melhora de forma consistente; piora inclusive em algumas épocas.\n",
    "\n",
    "- O val_accuracy chega a cair levemente nas últimas épocas (ex: de 0.4255 para 0.4087), o que reforça que o modelo não está melhorando mais e poderia até ter parado antes (early stopping)."
   ]
  },
  {
   "cell_type": "code",
   "execution_count": 26,
   "id": "3062e844",
   "metadata": {},
   "outputs": [
    {
     "name": "stdout",
     "output_type": "stream",
     "text": [
      "\u001b[1m7/7\u001b[0m \u001b[32m━━━━━━━━━━━━━━━━━━━━\u001b[0m\u001b[37m\u001b[0m \u001b[1m2s\u001b[0m 243ms/step - accuracy: 0.2991 - loss: 1.8767\n",
      "\n",
      "Acurácia no conjunto de teste: 0.38\n"
     ]
    }
   ],
   "source": [
    "# Avaliação\n",
    "loss, acc = model.evaluate(test_ds)\n",
    "print(f\"\\nAcurácia no conjunto de teste: {acc:.2f}\")\n"
   ]
  },
  {
   "cell_type": "code",
   "execution_count": 27,
   "id": "95e6d8cd",
   "metadata": {},
   "outputs": [
    {
     "data": {
      "image/png": "[encoded data removed]",
      "text/plain": [
       "<Figure size 1200x400 with 2 Axes>"
      ]
     },
     "metadata": {},
     "output_type": "display_data"
    }
   ],
   "source": [
    "plt.figure(figsize=(12, 4))\n",
    "\n",
    "plt.subplot(1, 2, 1)\n",
    "plt.plot(history.history['accuracy'], label='Treino')\n",
    "plt.plot(history.history['val_accuracy'], label='Validação')\n",
    "plt.title('Acurácia')\n",
    "plt.xlabel('Época')\n",
    "plt.ylabel('Acurácia')\n",
    "plt.legend()\n",
    "\n",
    "plt.subplot(1, 2, 2)\n",
    "plt.plot(history.history['loss'], label='Treino')\n",
    "plt.plot(history.history['val_loss'], label='Validação')\n",
    "plt.title('Loss')\n",
    "plt.xlabel('Época')\n",
    "plt.ylabel('Loss')\n",
    "plt.legend()\n",
    "\n",
    "plt.tight_layout()\n",
    "plt.show()\n"
   ]
  },
  {
   "cell_type": "markdown",
   "id": "51c341f8",
   "metadata": {},
   "source": [
    "## Avaliar modelo no conjunto de teste"
   ]
  },
  {
   "cell_type": "code",
   "execution_count": 28,
   "id": "951be557",
   "metadata": {},
   "outputs": [
    {
     "name": "stdout",
     "output_type": "stream",
     "text": [
      "\u001b[1m7/7\u001b[0m \u001b[32m━━━━━━━━━━━━━━━━━━━━\u001b[0m\u001b[37m\u001b[0m \u001b[1m2s\u001b[0m 220ms/step\n",
      "\n",
      "Acurácia: 0.3780\n",
      "F1-score ponderado: 0.3487\n",
      "Log Loss: 1.7961\n",
      "Tempo médio de inferência por imagem: 10.09 ms\n",
      "\n",
      "Relatório de Classificação:\n",
      "\n",
      "              precision    recall  f1-score   support\n",
      "\n",
      "        HDPE       0.26      0.17      0.20        30\n",
      "        LDPA       0.76      0.43      0.55        30\n",
      "       Other       0.30      0.10      0.15        30\n",
      "         PET       0.08      0.07      0.08        29\n",
      "          PP       0.56      0.97      0.71        30\n",
      "          PS       0.41      0.57      0.48        30\n",
      "         PVC       0.22      0.33      0.26        30\n",
      "\n",
      "    accuracy                           0.38       209\n",
      "   macro avg       0.37      0.38      0.35       209\n",
      "weighted avg       0.37      0.38      0.35       209\n",
      "\n"
     ]
    }
   ],
   "source": [
    "import time\n",
    "import numpy as np\n",
    "from sklearn.metrics import accuracy_score, f1_score, log_loss, confusion_matrix, classification_report\n",
    "\n",
    "# Início da inferência\n",
    "start_infer = time.time()\n",
    "y_pred_probs = model.predict(test_ds)\n",
    "inference_duration = time.time() - start_infer\n",
    "\n",
    "# Previsões\n",
    "y_pred = np.argmax(y_pred_probs, axis=1)\n",
    "\n",
    "# Rótulos verdadeiros (formato inteiro)\n",
    "y_true = np.concatenate([y.numpy() for x, y in test_ds])\n",
    "\n",
    "# Tempo de inferência por imagem\n",
    "num_samples = len(y_true)\n",
    "inference_time = (inference_duration / num_samples) * 1000  # ms\n",
    "\n",
    "# Métricas\n",
    "acc = accuracy_score(y_true, y_pred)\n",
    "f1 = f1_score(y_true, y_pred, average='weighted')\n",
    "loss_val = log_loss(y_true, y_pred_probs)\n",
    "cm = confusion_matrix(y_true, y_pred)\n",
    "report = classification_report(y_true, y_pred, target_names=class_names)\n",
    "\n",
    "# Impressão\n",
    "print(f\"\\nAcurácia: {acc:.4f}\")\n",
    "print(f\"F1-score ponderado: {f1:.4f}\")\n",
    "print(f\"Log Loss: {loss_val:.4f}\")\n",
    "print(f\"Tempo médio de inferência por imagem: {inference_time:.2f} ms\")\n",
    "print(\"\\nRelatório de Classificação:\\n\")\n",
    "print(report)\n"
   ]
  },
  {
   "cell_type": "code",
   "execution_count": 29,
   "id": "d80f4844",
   "metadata": {},
   "outputs": [
    {
     "data": {
      "image/png": "[encoded data removed]",
      "text/plain": [
       "<Figure size 1000x800 with 2 Axes>"
      ]
     },
     "metadata": {},
     "output_type": "display_data"
    }
   ],
   "source": [
    "# Matriz de confusão\n",
    "cm = confusion_matrix(y_true, y_pred)\n",
    "\n",
    "# Plot\n",
    "plt.figure(figsize=(10, 8))\n",
    "sns.heatmap(cm, annot=True, fmt=\"d\", cmap=\"Blues\", \n",
    "            xticklabels=class_names, yticklabels=class_names)\n",
    "\n",
    "plt.xlabel('Previsão')\n",
    "plt.ylabel('Rótulo Verdadeiro')\n",
    "plt.title('Matriz de Confusão')\n",
    "plt.tight_layout()\n",
    "plt.show()"
   ]
  },
  {
   "cell_type": "markdown",
   "id": "9bee9559",
   "metadata": {},
   "source": [
    "## Salvar modelo e métricas"
   ]
  },
  {
   "cell_type": "code",
   "execution_count": 30,
   "id": "4ae8184f",
   "metadata": {},
   "outputs": [
    {
     "name": "stdout",
     "output_type": "stream",
     "text": [
      "\n",
      "Modelo e métricas salvos com sucesso!\n"
     ]
    }
   ],
   "source": [
    "os.makedirs(\"models/06_cnn\", exist_ok=True)\n",
    "model.save(\"models/06_cnn/cnn_v2_model.keras\")\n",
    "\n",
    "with open(\"models/05_cnn/cnn_v2_metrics.json\", \"w\") as f:\n",
    "    json.dump({\n",
    "        \"model\": \"cnn\",\n",
    "        \"accuracy\": acc,\n",
    "        \"f1_score_weighted\": f1,\n",
    "        \"log_loss\": loss_val,\n",
    "        \"train_time_sec\": train_time,\n",
    "        \"inference_time_ms\": inference_time\n",
    "    }, f)\n",
    "\n",
    "print(\"\\nModelo e métricas salvos com sucesso!\")"
   ]
  },
  {
   "cell_type": "code",
   "execution_count": null,
   "id": "30d1dd78",
   "metadata": {},
   "outputs": [],
   "source": []
  }
 ],
 "metadata": {
  "kernelspec": {
   "display_name": "Python 3 (ipykernel)",
   "language": "python",
   "name": "python3"
  },
  "language_info": {
   "codemirror_mode": {
    "name": "ipython",
    "version": 3
   },
   "file_extension": ".py",
   "mimetype": "text/x-python",
   "name": "python",
   "nbconvert_exporter": "python",
   "pygments_lexer": "ipython3",
   "version": "3.11.5"
  }
 },
 "nbformat": 4,
 "nbformat_minor": 5
}
