{
 "cells": [
  {
   "cell_type": "markdown",
   "id": "e99d0906",
   "metadata": {},
   "source": [
    "# Classificacao com SVM"
   ]
  },
  {
   "cell_type": "markdown",
   "id": "ee20e508",
   "metadata": {},
   "source": [
    "# 0 Importação"
   ]
  },
  {
   "cell_type": "code",
   "execution_count": null,
   "id": "29de6e39",
   "metadata": {},
   "outputs": [],
   "source": [
    "import os\n",
    "import glob\n",
    "import time\n",
    "import cv2\n",
    "import numpy as np\n",
    "from tqdm import tqdm\n",
    "import matplotlib.pyplot as plt\n",
    "import seaborn as sns\n",
    "import joblib\n",
    "import json"
   ]
  },
  {
   "cell_type": "code",
   "execution_count": null,
   "id": "921080c2",
   "metadata": {},
   "outputs": [],
   "source": [
    "SEED_VALUE = 42\n",
    "\n",
    "# Fix seed to make training deterministic.\n",
    "np.random.seed(SEED_VALUE)"
   ]
  },
  {
   "cell_type": "code",
   "execution_count": null,
   "id": "f7199263",
   "metadata": {},
   "outputs": [],
   "source": [
    "from sklearn.svm import SVC\n",
    "from sklearn.preprocessing import LabelEncoder\n",
    "from sklearn.metrics import (\n",
    "    accuracy_score, f1_score, log_loss,\n",
    "    classification_report, confusion_matrix\n",
    ")\n",
    "from sklearn.decomposition import PCA"
   ]
  },
  {
   "cell_type": "markdown",
   "id": "a8831599",
   "metadata": {},
   "source": [
    "# 1 Configuração"
   ]
  },
  {
   "cell_type": "code",
   "execution_count": null,
   "id": "6115634c",
   "metadata": {},
   "outputs": [],
   "source": [
    "image_size = (64, 64)\n",
    "dataset_path = \"./datasets/Plastic_Classification\"\n",
    "os.makedirs(\"models/04_svm\", exist_ok=True)"
   ]
  },
  {
   "cell_type": "markdown",
   "id": "82f32b0e",
   "metadata": {},
   "source": [
    "# 2 Função de Carregamento"
   ]
  },
  {
   "cell_type": "code",
   "execution_count": null,
   "id": "9d405256",
   "metadata": {},
   "outputs": [],
   "source": [
    "def carregar_imagens(pasta, image_size=(64, 64)):\n",
    "    X, y = [], []\n",
    "    for classe in sorted(os.listdir(pasta)):\n",
    "        caminho_classe = os.path.join(pasta, classe)\n",
    "        if not os.path.isdir(caminho_classe):\n",
    "            continue\n",
    "        for arquivo in glob.glob(os.path.join(caminho_classe, \"*.jpg\")):\n",
    "            img = cv2.imread(arquivo, cv2.IMREAD_GRAYSCALE)\n",
    "            img = cv2.resize(img, image_size)\n",
    "            X.append(img.flatten() / 255.0)\n",
    "            y.append(classe)\n",
    "    return np.array(X), np.array(y)"
   ]
  },
  {
   "cell_type": "markdown",
   "id": "418cc857",
   "metadata": {},
   "source": [
    "# 3 Pré-processamento"
   ]
  },
  {
   "cell_type": "code",
   "execution_count": null,
   "id": "3c2317b3",
   "metadata": {},
   "outputs": [],
   "source": [
    "X_train, y_train = carregar_imagens(os.path.join(dataset_path, \"train\"))\n",
    "X_val, y_val = carregar_imagens(os.path.join(dataset_path, \"validation\"))\n",
    "X_test, y_test = carregar_imagens(os.path.join(dataset_path, \"test\"))\n",
    "\n",
    "le = LabelEncoder()\n",
    "y_train_enc = le.fit_transform(y_train)\n",
    "y_val_enc = le.transform(y_val)\n",
    "y_test_enc = le.transform(y_test)"
   ]
  },
  {
   "cell_type": "code",
   "execution_count": null,
   "id": "dc47ad78",
   "metadata": {},
   "outputs": [],
   "source": [
    "# -------------------------------\n",
    "# PCA PARA REDUÇÃO DE DIMENSIONALIDADE\n",
    "# -------------------------------\n",
    "pca = PCA(n_components=300)\n",
    "X_train_pca = pca.fit_transform(X_train)\n",
    "X_val_pca = pca.transform(X_val)\n",
    "X_test_pca = pca.transform(X_test)\n",
    "\n",
    "joblib.dump(pca, \"models/04_svm/pca_transformer_svm.joblib\")"
   ]
  },
  {
   "cell_type": "markdown",
   "id": "ab394ff9",
   "metadata": {},
   "source": [
    "# 4 Treinamento do modelo "
   ]
  },
  {
   "cell_type": "code",
   "execution_count": null,
   "id": "e23f7e79",
   "metadata": {},
   "outputs": [],
   "source": [
    "model = SVC(\n",
    "    kernel=\"rbf\",\n",
    "    probability=True,\n",
    "    C=1.0,\n",
    "    gamma=\"scale\",\n",
    "    verbose=True,\n",
    "    random_state=42\n",
    ")\n",
    "\n",
    "start_train = time.time()\n",
    "model.fit(X_train_pca, y_train_enc)\n",
    "train_time = time.time() - start_train"
   ]
  },
  {
   "cell_type": "markdown",
   "id": "d4dbbeb6",
   "metadata": {},
   "source": [
    "# 5 Avaliação"
   ]
  },
  {
   "cell_type": "code",
   "execution_count": null,
   "id": "938c316a",
   "metadata": {},
   "outputs": [],
   "source": [
    "start_pred = time.time()\n",
    "y_pred = model.predict(X_test_pca)\n",
    "inference_time = (time.time() - start_pred) / len(X_test)\n",
    "\n",
    "y_proba = model.predict_proba(X_test_pca)\n",
    "\n",
    "acc = accuracy_score(y_test_enc, y_pred)\n",
    "f1 = f1_score(y_test_enc, y_pred, average=\"weighted\")\n",
    "loss = log_loss(y_test_enc, y_proba)\n",
    "\n",
    "print(f\"\\n🧰 Tempo de treino: {train_time:.2f}s\")\n",
    "print(f\"⚡ Tempo de inferência (por imagem): {inference_time*1000:.2f} ms\")\n",
    "print(f\"✅ Acurácia: {acc:.4f}\")\n",
    "print(f\"🎯 F1-score ponderado: {f1:.4f}\")\n",
    "print(f\"📉 Log Loss: {loss:.4f}\\n\")\n",
    "print(\"📋 Classification Report:\\n\")\n",
    "print(classification_report(y_test_enc, y_pred, target_names=le.classes_))"
   ]
  },
  {
   "cell_type": "markdown",
   "id": "d73098fb",
   "metadata": {},
   "source": [
    "# 6 Matriz de confusão"
   ]
  },
  {
   "cell_type": "code",
   "execution_count": null,
   "id": "ff4b1817",
   "metadata": {},
   "outputs": [],
   "source": [
    "cm = confusion_matrix(y_test_enc, y_pred)\n",
    "plt.figure(figsize=(8, 6))\n",
    "sns.heatmap(cm, annot=True, fmt='d', cmap='PuBuGn', xticklabels=le.classes_, yticklabels=le.classes_)\n",
    "plt.title(\"Matriz de Confusão - SVM\")\n",
    "plt.xlabel(\"Predito\")\n",
    "plt.ylabel(\"Real\")\n",
    "plt.tight_layout()\n",
    "plt.show()"
   ]
  },
  {
   "cell_type": "markdown",
   "id": "c7a29322",
   "metadata": {},
   "source": [
    "# 7 Previsão "
   ]
  },
  {
   "cell_type": "code",
   "execution_count": null,
   "id": "cf859e9d",
   "metadata": {},
   "outputs": [],
   "source": [
    "X_test_imgs = X_test.reshape((-1, 64, 64)) * 255.0\n",
    "real_labels = le.inverse_transform(y_test_enc)\n",
    "pred_labels = le.inverse_transform(y_pred)\n",
    "\n",
    "plt.figure(figsize=(18, 10))\n",
    "for i in range(12):\n",
    "    plt.subplot(3, 4, i + 1)\n",
    "    plt.imshow(X_test_imgs[i], cmap=\"gray\")\n",
    "    plt.axis(\"off\")\n",
    "    plt.title(f\"Real: {real_labels[i]}\\nPred: {pred_labels[i]}\", fontsize=9)\n",
    "plt.suptitle(\"Previsões do modelo SVM\", fontsize=14)\n",
    "plt.tight_layout()\n",
    "plt.show()"
   ]
  },
  {
   "cell_type": "markdown",
   "id": "c26d1a7d",
   "metadata": {},
   "source": [
    "# 8 Salvar o modelo e as metricas"
   ]
  },
  {
   "cell_type": "code",
   "execution_count": null,
   "id": "a4717ce3",
   "metadata": {},
   "outputs": [],
   "source": [
    "joblib.dump(model, \"models/04_svm/svm_model.joblib\")\n",
    "joblib.dump(le, \"models/04_svm/label_encoder_svm.joblib\")\n",
    "\n",
    "with open(\"models/04_svm/svm_metrics.json\", \"w\") as f:\n",
    "    json.dump({\n",
    "        \"model\": \"SVM\",\n",
    "        \"accuracy\": acc,\n",
    "        \"f1_score_weighted\": f1,\n",
    "        \"log_loss\": loss,\n",
    "        \"train_time_sec\": train_time,\n",
    "        \"inference_time_ms\": inference_time * 1000\n",
    "    }, f, indent=4)\n",
    "joblib.dump((X_test, y_test), \"models/test_data_for_comparisons.joblib\")\n",
    "print(\"✅ Dados de teste salvos com sucesso.\")"
   ]
  },
  {
   "cell_type": "code",
   "execution_count": null,
   "id": "27014c90",
   "metadata": {},
   "outputs": [],
   "source": []
  }
 ],
 "metadata": {
  "kernelspec": {
   "display_name": "Python 3 (ipykernel)",
   "language": "python",
   "name": "python3"
  },
  "language_info": {
   "codemirror_mode": {
    "name": "ipython",
    "version": 3
   },
   "file_extension": ".py",
   "mimetype": "text/x-python",
   "name": "python",
   "nbconvert_exporter": "python",
   "pygments_lexer": "ipython3",
   "version": "3.11.5"
  }
 },
 "nbformat": 4,
 "nbformat_minor": 5
}
